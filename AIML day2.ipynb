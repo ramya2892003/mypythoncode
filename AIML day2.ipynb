{
 "cells": [
  {
   "cell_type": "code",
   "execution_count": 9,
   "id": "1be13734",
   "metadata": {},
   "outputs": [],
   "source": [
    "from numpy import random as rd \n",
    "#import parent import child as nn\n",
    "\n",
    "import numpy as np"
   ]
  },
  {
   "cell_type": "code",
   "execution_count": 10,
   "id": "994c3f03",
   "metadata": {},
   "outputs": [
    {
     "name": "stdout",
     "output_type": "stream",
     "text": [
      "[0.72556242 1.87875395 7.21016569 0.16350945 0.10678104 0.41790527\n",
      " 1.35687903 1.97642097 7.87807481]\n"
     ]
    }
   ],
   "source": [
    "r4=10*(rd.rand(9))\n",
    "print(r4)"
   ]
  },
  {
   "cell_type": "code",
   "execution_count": 11,
   "id": "f6b49eae",
   "metadata": {},
   "outputs": [
    {
     "name": "stdout",
     "output_type": "stream",
     "text": [
      "[[1.35944455 2.49324647 6.49734318]\n",
      " [2.36386133 7.19226    1.60008026]]\n"
     ]
    }
   ],
   "source": [
    "r4=10*(rd.rand(2,3))\n",
    "print(r4)"
   ]
  },
  {
   "cell_type": "markdown",
   "id": "2e13daec",
   "metadata": {},
   "source": [
    "# stacking\n"
   ]
  },
  {
   "cell_type": "code",
   "execution_count": 21,
   "id": "9d19edb8",
   "metadata": {},
   "outputs": [
    {
     "name": "stdout",
     "output_type": "stream",
     "text": [
      "[52 93 15 72 61 21 83 87 75 75 88 24  3 22 53  2 88 30 38  2 64 60 21 33\n",
      " 76 58 22 89 49 91 59 42 92 60 80 15 62 62 47 62 51 55 64  3 51  7 21 73\n",
      " 39 18  4 89 60 14  9 90 53  2 84 92 60 71 44  8 47 35 78 81 36 50  4  2\n",
      "  6 54  4 54 93 63 18 90 44 34 74 62 14 95 48 15 72 78 87 62 40 85 80 82\n",
      " 53 24 26 89]\n"
     ]
    }
   ],
   "source": [
    "import numpy as np\n",
    "rd.seed(42)  # Set a specific seed value\n",
    "random_array = np.random.randint(1, 100, size=100)\n",
    "print(random_array)"
   ]
  },
  {
   "cell_type": "code",
   "execution_count": 28,
   "id": "55369fd5",
   "metadata": {},
   "outputs": [
    {
     "name": "stdout",
     "output_type": "stream",
     "text": [
      "[[44 47 64 67 67]\n",
      " [ 9 83 21 36 87]\n",
      " [70 88 88 12 58]\n",
      " [65 39 87 46 88]]\n"
     ]
    }
   ],
   "source": [
    "rd.seed(0) #any num specified in () means no change in random number\n",
    "a=rd.randint(100,size=(4,5))\n",
    "print(a)"
   ]
  },
  {
   "cell_type": "code",
   "execution_count": 31,
   "id": "fc425774",
   "metadata": {},
   "outputs": [
    {
     "name": "stdout",
     "output_type": "stream",
     "text": [
      "[[44 47 64 67 67]\n",
      " [ 9 83 21 36 87]\n",
      " [70 88 88 12 58]\n",
      " [65 39 87 46 88]]\n"
     ]
    }
   ],
   "source": [
    "rd.seed(1) #any num specified in () means no change in random number\n",
    "b=rd.randint(100,size=(4,5))\n",
    "print(a)"
   ]
  },
  {
   "cell_type": "code",
   "execution_count": 35,
   "id": "6c7b4eaa",
   "metadata": {},
   "outputs": [
    {
     "name": "stdout",
     "output_type": "stream",
     "text": [
      "[[44 47 64 67 67 37 12 72  9 75]\n",
      " [ 9 83 21 36 87  5 79 64 16  1]\n",
      " [70 88 88 12 58 76 71  6 25 50]\n",
      " [65 39 87 46 88 20 18 84 11 28]]\n"
     ]
    }
   ],
   "source": [
    "c=(np.hstack((a,b)))\n",
    "print(c)"
   ]
  },
  {
   "cell_type": "code",
   "execution_count": 33,
   "id": "a2e690a0",
   "metadata": {},
   "outputs": [
    {
     "name": "stdout",
     "output_type": "stream",
     "text": [
      "[[44 47 64 67 67]\n",
      " [ 9 83 21 36 87]\n",
      " [70 88 88 12 58]\n",
      " [65 39 87 46 88]\n",
      " [37 12 72  9 75]\n",
      " [ 5 79 64 16  1]\n",
      " [76 71  6 25 50]\n",
      " [20 18 84 11 28]]\n"
     ]
    }
   ],
   "source": [
    "print(np.vstack((a,b)))"
   ]
  },
  {
   "cell_type": "code",
   "execution_count": 36,
   "id": "e0b6d4aa",
   "metadata": {},
   "outputs": [
    {
     "data": {
      "text/plain": [
       "[array([[44, 47],\n",
       "        [ 9, 83],\n",
       "        [70, 88],\n",
       "        [65, 39]]),\n",
       " array([[64, 67, 67],\n",
       "        [21, 36, 87],\n",
       "        [88, 12, 58],\n",
       "        [87, 46, 88]]),\n",
       " array([[37, 12, 72,  9],\n",
       "        [ 5, 79, 64, 16],\n",
       "        [76, 71,  6, 25],\n",
       "        [20, 18, 84, 11]]),\n",
       " array([[75],\n",
       "        [ 1],\n",
       "        [50],\n",
       "        [28]])]"
      ]
     },
     "execution_count": 36,
     "metadata": {},
     "output_type": "execute_result"
    }
   ],
   "source": [
    "np.hsplit(c,(2,5,9))"
   ]
  },
  {
   "cell_type": "code",
   "execution_count": 40,
   "id": "649ffb36",
   "metadata": {},
   "outputs": [
    {
     "name": "stdout",
     "output_type": "stream",
     "text": [
      "[[40 15 72]\n",
      " [22 43 82]\n",
      " [75  7 34]\n",
      " [49 95 75]\n",
      " [85 47 63]\n",
      " [31 90 20]\n",
      " [37 39 67]\n",
      " [ 4 42 51]\n",
      " [38 33 58]]\n"
     ]
    }
   ],
   "source": [
    "rd.seed(2) #any num specified in () means no change in random number\n",
    "d=rd.randint(100,size=(9,3))\n",
    "print(d)"
   ]
  },
  {
   "cell_type": "code",
   "execution_count": 43,
   "id": "02a92e1f",
   "metadata": {},
   "outputs": [
    {
     "data": {
      "text/plain": [
       "[array([[40, 15, 72],\n",
       "        [22, 43, 82],\n",
       "        [75,  7, 34]]),\n",
       " array([[49, 95, 75],\n",
       "        [85, 47, 63]]),\n",
       " array([[31, 90, 20],\n",
       "        [37, 39, 67],\n",
       "        [ 4, 42, 51],\n",
       "        [38, 33, 58]])]"
      ]
     },
     "execution_count": 43,
     "metadata": {},
     "output_type": "execute_result"
    }
   ],
   "source": [
    "np.vsplit(d,(3,5))"
   ]
  },
  {
   "cell_type": "code",
   "execution_count": 44,
   "id": "ebddd251",
   "metadata": {},
   "outputs": [
    {
     "data": {
      "text/plain": [
       "array([2.        , 2.66666667, 3.33333333, 4.        , 4.66666667,\n",
       "       5.33333333, 6.        , 6.66666667, 7.33333333, 8.        ])"
      ]
     },
     "execution_count": 44,
     "metadata": {},
     "output_type": "execute_result"
    }
   ],
   "source": [
    "np.linspace(2,8,10)"
   ]
  },
  {
   "cell_type": "code",
   "execution_count": 45,
   "id": "d7c1afce",
   "metadata": {},
   "outputs": [
    {
     "data": {
      "text/plain": [
       "array([[44, 47, 64, 67, 67, 37, 12, 72,  9, 75],\n",
       "       [ 9, 83, 21, 36, 87,  5, 79, 64, 16,  1],\n",
       "       [70, 88, 88, 12, 58, 76, 71,  6, 25, 50],\n",
       "       [65, 39, 87, 46, 88, 20, 18, 84, 11, 28]])"
      ]
     },
     "execution_count": 45,
     "metadata": {},
     "output_type": "execute_result"
    }
   ],
   "source": [
    "c"
   ]
  },
  {
   "cell_type": "code",
   "execution_count": 48,
   "id": "b3c7e45b",
   "metadata": {},
   "outputs": [
    {
     "data": {
      "text/plain": [
       "array([57, 78, 90, 90])"
      ]
     },
     "execution_count": 48,
     "metadata": {},
     "output_type": "execute_result"
    }
   ],
   "source": [
    "s=np.array([90,57,78,90])\n",
    "np.sort(s)"
   ]
  },
  {
   "cell_type": "code",
   "execution_count": 49,
   "id": "678db3b8",
   "metadata": {},
   "outputs": [
    {
     "data": {
      "text/plain": [
       "(array([1], dtype=int64),)"
      ]
     },
     "execution_count": 49,
     "metadata": {},
     "output_type": "execute_result"
    }
   ],
   "source": [
    "np.where(s%2==1)"
   ]
  },
  {
   "cell_type": "code",
   "execution_count": 50,
   "id": "fe161369",
   "metadata": {},
   "outputs": [
    {
     "name": "stdout",
     "output_type": "stream",
     "text": [
      "[90 57 78 90]\n",
      "[ 90 147 225 315]\n"
     ]
    }
   ],
   "source": [
    "print(s)\n",
    "print(np.cumsum(s))"
   ]
  },
  {
   "cell_type": "code",
   "execution_count": 51,
   "id": "19c1ccf1",
   "metadata": {},
   "outputs": [
    {
     "data": {
      "text/plain": [
       "array([      90,     5130,   400140, 36012600], dtype=int32)"
      ]
     },
     "execution_count": 51,
     "metadata": {},
     "output_type": "execute_result"
    }
   ],
   "source": [
    "np.cumprod(s)"
   ]
  },
  {
   "cell_type": "code",
   "execution_count": 53,
   "id": "59598fed",
   "metadata": {},
   "outputs": [
    {
     "data": {
      "text/plain": [
       "array([[9, 0, 7, 1],\n",
       "       [7, 8, 9, 0],\n",
       "       [5, 6, 7, 8]])"
      ]
     },
     "execution_count": 53,
     "metadata": {},
     "output_type": "execute_result"
    }
   ],
   "source": [
    "ar10=np.array([[9,0,7,1],[7,8,9,0],[5,6,7,8]])\n",
    "ar10"
   ]
  },
  {
   "cell_type": "code",
   "execution_count": 54,
   "id": "f9daf2b1",
   "metadata": {},
   "outputs": [
    {
     "data": {
      "text/plain": [
       "array([[ 9,  0,  7,  1],\n",
       "       [16,  8, 16,  1],\n",
       "       [21, 14, 23,  9]], dtype=int32)"
      ]
     },
     "execution_count": 54,
     "metadata": {},
     "output_type": "execute_result"
    }
   ],
   "source": [
    "np.cumsum(ar10,axis=0)"
   ]
  },
  {
   "cell_type": "code",
   "execution_count": 55,
   "id": "dc401dbd",
   "metadata": {},
   "outputs": [
    {
     "data": {
      "text/plain": [
       "array([[ 9,  9, 16, 17],\n",
       "       [ 7, 15, 24, 24],\n",
       "       [ 5, 11, 18, 26]], dtype=int32)"
      ]
     },
     "execution_count": 55,
     "metadata": {},
     "output_type": "execute_result"
    }
   ],
   "source": [
    "np.cumsum(ar10,axis=1)"
   ]
  },
  {
   "cell_type": "code",
   "execution_count": 56,
   "id": "0a478463",
   "metadata": {},
   "outputs": [
    {
     "data": {
      "text/plain": [
       "array([[   9,    0,    0,    0],\n",
       "       [   7,   56,  504,    0],\n",
       "       [   5,   30,  210, 1680]], dtype=int32)"
      ]
     },
     "execution_count": 56,
     "metadata": {},
     "output_type": "execute_result"
    }
   ],
   "source": [
    "np.cumprod(ar10,axis=1)"
   ]
  },
  {
   "cell_type": "code",
   "execution_count": 57,
   "id": "90dc4ea8",
   "metadata": {},
   "outputs": [
    {
     "data": {
      "text/plain": [
       "array([[  9,   0,   7,   1],\n",
       "       [ 63,   0,  63,   0],\n",
       "       [315,   0, 441,   0]], dtype=int32)"
      ]
     },
     "execution_count": 57,
     "metadata": {},
     "output_type": "execute_result"
    }
   ],
   "source": [
    "np.cumprod(ar10,axis=0)"
   ]
  },
  {
   "cell_type": "markdown",
   "id": "e73d986c",
   "metadata": {},
   "source": [
    "# matplotlib"
   ]
  },
  {
   "cell_type": "code",
   "execution_count": 58,
   "id": "66281e31",
   "metadata": {},
   "outputs": [],
   "source": [
    "from matplotlib import pyplot as plt"
   ]
  },
  {
   "cell_type": "code",
   "execution_count": 65,
   "id": "918c2b9e",
   "metadata": {},
   "outputs": [
    {
     "data": {
      "text/plain": [
       "[<matplotlib.lines.Line2D at 0x1de989803a0>]"
      ]
     },
     "execution_count": 65,
     "metadata": {},
     "output_type": "execute_result"
    },
    {
     "data": {
      "image/png": "[encoded data removed]",
      "text/plain": [
       "<Figure size 432x288 with 1 Axes>"
      ]
     },
     "metadata": {
      "needs_background": "light"
     },
     "output_type": "display_data"
    }
   ],
   "source": [
    "x=[1,2,3,4]\n",
    "y=[23,15,47,68]\n",
    "plt.plot(x,y)"
   ]
  },
  {
   "cell_type": "code",
   "execution_count": 73,
   "id": "73137a6a",
   "metadata": {},
   "outputs": [
    {
     "data": {
      "text/plain": [
       "Text(0, 0.5, 'sub')"
      ]
     },
     "execution_count": 73,
     "metadata": {},
     "output_type": "execute_result"
    },
    {
     "data": {
      "image/png": "[encoded data removed]",
      "text/plain": [
       "<Figure size 432x288 with 1 Axes>"
      ]
     },
     "metadata": {
      "needs_background": "light"
     },
     "output_type": "display_data"
    }
   ],
   "source": [
    "sub=[\"m\",\"s\",\"e\",\"h\",\"g\"]\n",
    "stu1=[100,98,95,85,100]\n",
    "stu2=[89,90,98,99,78]\n",
    "plt.plot(sub,stu1,color='blue',linestyle=\"--\",linewidth=2,marker=\"*\",label=\"ramya\")\n",
    "plt.plot(sub,stu2,color='green',linestyle=\":\",linewidth=2,marker=\"*\",label=\"spandana\")\n",
    "plt.legend()\n",
    "plt.title(\"ramya vs spandana\")\n",
    "plt.xlabel(\"sub\")\n",
    "plt.ylabel(\"sub\")\n"
   ]
  },
  {
   "cell_type": "code",
   "execution_count": 79,
   "id": "acf50dc0",
   "metadata": {},
   "outputs": [
    {
     "data": {
      "text/plain": [
       "Text(0, 0.5, 'sub')"
      ]
     },
     "execution_count": 79,
     "metadata": {},
     "output_type": "execute_result"
    },
    {
     "data": {
      "image/png": "[encoded data removed]",
      "text/plain": [
       "<Figure size 432x288 with 1 Axes>"
      ]
     },
     "metadata": {
      "needs_background": "light"
     },
     "output_type": "display_data"
    }
   ],
   "source": [
    "sub=[\"m\",\"s\",\"e\",\"h\",\"g\"]\n",
    "stu1=[100,98,75,85,100]\n",
    "stu2=[89,90,98,99,78]\n",
    "plt.bar(sub,stu1,color='blue',label=\"ramya\")\n",
    "plt.bar(sub,stu2,color='green',label=\"spandana\")\n",
    "plt.legend()\n",
    "plt.title(\"ramya vs spandana\")\n",
    "plt.xlabel(\"sub\")\n",
    "plt.ylabel(\"sub\")"
   ]
  },
  {
   "cell_type": "code",
   "execution_count": 85,
   "id": "571f13d7",
   "metadata": {},
   "outputs": [
    {
     "data": {
      "text/plain": [
       "([<matplotlib.patches.Wedge at 0x1de9bcc2d90>,\n",
       "  <matplotlib.patches.Wedge at 0x1de9bcd02b0>,\n",
       "  <matplotlib.patches.Wedge at 0x1de9bcd0790>,\n",
       "  <matplotlib.patches.Wedge at 0x1de9bcd0c10>,\n",
       "  <matplotlib.patches.Wedge at 0x1de9bcdb130>],\n",
       " [Text(0.7229240601996787, 0.8290843160887869, 'm'),\n",
       "  Text(-1.736062605086502, 1.1815610992328196, 's'),\n",
       "  Text(-0.701455830671978, -0.8473250365805824, 'e'),\n",
       "  Text(1.3113298332627548, -1.6402481728065044, 'h'),\n",
       "  Text(1.095994067850611, -0.0937923410320406, 'g')])"
      ]
     },
     "execution_count": 85,
     "metadata": {},
     "output_type": "execute_result"
    },
    {
     "data": {
      "image/png": "[encoded data removed]",
      "text/plain": [
       "<Figure size 432x288 with 1 Axes>"
      ]
     },
     "metadata": {},
     "output_type": "display_data"
    }
   ],
   "source": [
    "subj=[\"m\",\"s\",\"e\",\"h\",\"g\"]\n",
    "val=[100,98,75,85,10]\n",
    "ex=[0,1,0,1,0]\n",
    "plt.pie(val,labels=subj,explode=ex)"
   ]
  },
  {
   "cell_type": "code",
   "execution_count": 83,
   "id": "89496ce4",
   "metadata": {},
   "outputs": [
    {
     "data": {
      "text/plain": [
       "([<matplotlib.patches.Wedge at 0x1de9bc2a580>,\n",
       "  <matplotlib.patches.Wedge at 0x1de9bc2a970>,\n",
       "  <matplotlib.patches.Wedge at 0x1de9bc2ae50>,\n",
       "  <matplotlib.patches.Wedge at 0x1de9bc36370>,\n",
       "  <matplotlib.patches.Wedge at 0x1de9bc36850>],\n",
       " [Text(0.7229240601996787, 0.8290843160887869, 'm'),\n",
       "  Text(-0.909366126473882, 0.6189129567410008, 's'),\n",
       "  Text(-0.701455830671978, -0.8473250365805824, 'e'),\n",
       "  Text(0.6868870555185859, -0.8591776143272166, 'h'),\n",
       "  Text(1.095994067850611, -0.0937923410320406, 'g')])"
      ]
     },
     "execution_count": 83,
     "metadata": {},
     "output_type": "execute_result"
    },
    {
     "data": {
      "image/png": "[encoded data removed]",
      "text/plain": [
       "<Figure size 432x288 with 1 Axes>"
      ]
     },
     "metadata": {},
     "output_type": "display_data"
    }
   ],
   "source": [
    "subj=[\"m\",\"s\",\"e\",\"h\",\"g\"]\n",
    "val=[100,98,75,85,10]\n",
    "plt.pie(val,labels=subj)"
   ]
  },
  {
   "cell_type": "code",
   "execution_count": 86,
   "id": "1446bcb1",
   "metadata": {},
   "outputs": [],
   "source": [
    "#the score btw india and aus in cricket match for every 5 overs are given india is copm bating  all 50\n",
    "# overs while aus comp 25 overs,create a line plot with proper title and x,y over"
   ]
  },
  {
   "cell_type": "code",
   "execution_count": 100,
   "id": "48070702",
   "metadata": {},
   "outputs": [
    {
     "data": {
      "text/plain": [
       "Text(0, 0.5, 'runs')"
      ]
     },
     "execution_count": 100,
     "metadata": {},
     "output_type": "execute_result"
    },
    {
     "data": {
      "image/png": "[encoded data removed]",
      "text/plain": [
       "<Figure size 432x288 with 1 Axes>"
      ]
     },
     "metadata": {
      "needs_background": "light"
     },
     "output_type": "display_data"
    }
   ],
   "source": [
    "# over=[5,10,15,20,25,30,35,40,45,50]\n",
    "# over2=[5,10,15,20,25]\n",
    "over_i=np.arange(5,51,5)\n",
    "over_a=np.arange(5,26,5)\n",
    "runs_ind=[25,51,84,131,160,189,220,250,267,287]\n",
    "runs_aus=[15,41,94,110,151]\n",
    "plt.plot(over_i,runs_ind,color='blue',linestyle=\"--\",linewidth=2,marker=\"*\",label=\"india\")\n",
    "plt.plot(over_a,runs_aus,color='green',linestyle=\":\",linewidth=2,marker=\"^\",label=\"australia\")\n",
    "plt.legend()\n",
    "plt.title(\"India vs australia\")\n",
    "plt.xlabel(\"over\")\n",
    "plt.ylabel(\"runs\")"
   ]
  },
  {
   "cell_type": "markdown",
   "id": "da16603b",
   "metadata": {},
   "source": [
    "# pandas"
   ]
  },
  {
   "cell_type": "code",
   "execution_count": 1,
   "id": "764f0c1e",
   "metadata": {},
   "outputs": [],
   "source": [
    "import pandas as pd\n"
   ]
  },
  {
   "cell_type": "code",
   "execution_count": 2,
   "id": "ae79609f",
   "metadata": {},
   "outputs": [],
   "source": [
    "val=[\"ram\",\"span\",\"suma\",\"xyz\"]\n",
    "ind=[67,68,69,60]\n",
    "s=pd.Series(val,index=ind)"
   ]
  },
  {
   "cell_type": "code",
   "execution_count": 3,
   "id": "903f7b1d",
   "metadata": {},
   "outputs": [
    {
     "data": {
      "text/plain": [
       "67     ram\n",
       "68    span\n",
       "69    suma\n",
       "60     xyz\n",
       "dtype: object"
      ]
     },
     "execution_count": 3,
     "metadata": {},
     "output_type": "execute_result"
    }
   ],
   "source": [
    "s"
   ]
  },
  {
   "cell_type": "code",
   "execution_count": 7,
   "id": "bfda39cc",
   "metadata": {},
   "outputs": [
    {
     "data": {
      "text/html": [
       "<div>\n",
       "<style scoped>\n",
       "    .dataframe tbody tr th:only-of-type {\n",
       "        vertical-align: middle;\n",
       "    }\n",
       "\n",
       "    .dataframe tbody tr th {\n",
       "        vertical-align: top;\n",
       "    }\n",
       "\n",
       "    .dataframe thead th {\n",
       "        text-align: right;\n",
       "    }\n",
       "</style>\n",
       "<table border=\"1\" class=\"dataframe\">\n",
       "  <thead>\n",
       "    <tr style=\"text-align: right;\">\n",
       "      <th></th>\n",
       "      <th>names</th>\n",
       "      <th>marks</th>\n",
       "      <th>grades</th>\n",
       "    </tr>\n",
       "  </thead>\n",
       "  <tbody>\n",
       "  </tbody>\n",
       "</table>\n",
       "</div>"
      ],
      "text/plain": [
       "Empty DataFrame\n",
       "Columns: [names, marks, grades]\n",
       "Index: []"
      ]
     },
     "execution_count": 7,
     "metadata": {},
     "output_type": "execute_result"
    }
   ],
   "source": [
    "mydf=pd.DataFrame(columns=['names','marks','grades'])\n",
    "mydf"
   ]
  },
  {
   "cell_type": "code",
   "execution_count": 8,
   "id": "9d30f2ca",
   "metadata": {},
   "outputs": [],
   "source": [
    "N=['xyz','yuv','jkn','duj','jin']\n",
    "M=[90,98,96,93,52]\n",
    "G=['a','a+','a+','a+','c']"
   ]
  },
  {
   "cell_type": "code",
   "execution_count": 11,
   "id": "b0136e3c",
   "metadata": {},
   "outputs": [
    {
     "data": {
      "text/html": [
       "<div>\n",
       "<style scoped>\n",
       "    .dataframe tbody tr th:only-of-type {\n",
       "        vertical-align: middle;\n",
       "    }\n",
       "\n",
       "    .dataframe tbody tr th {\n",
       "        vertical-align: top;\n",
       "    }\n",
       "\n",
       "    .dataframe thead th {\n",
       "        text-align: right;\n",
       "    }\n",
       "</style>\n",
       "<table border=\"1\" class=\"dataframe\">\n",
       "  <thead>\n",
       "    <tr style=\"text-align: right;\">\n",
       "      <th></th>\n",
       "      <th>names</th>\n",
       "      <th>marks</th>\n",
       "      <th>grades</th>\n",
       "    </tr>\n",
       "  </thead>\n",
       "  <tbody>\n",
       "    <tr>\n",
       "      <th>0</th>\n",
       "      <td>xyz</td>\n",
       "      <td>90</td>\n",
       "      <td>a</td>\n",
       "    </tr>\n",
       "    <tr>\n",
       "      <th>1</th>\n",
       "      <td>yuv</td>\n",
       "      <td>98</td>\n",
       "      <td>a+</td>\n",
       "    </tr>\n",
       "    <tr>\n",
       "      <th>2</th>\n",
       "      <td>jkn</td>\n",
       "      <td>96</td>\n",
       "      <td>a+</td>\n",
       "    </tr>\n",
       "    <tr>\n",
       "      <th>3</th>\n",
       "      <td>duj</td>\n",
       "      <td>93</td>\n",
       "      <td>a+</td>\n",
       "    </tr>\n",
       "    <tr>\n",
       "      <th>4</th>\n",
       "      <td>jin</td>\n",
       "      <td>52</td>\n",
       "      <td>c</td>\n",
       "    </tr>\n",
       "  </tbody>\n",
       "</table>\n",
       "</div>"
      ],
      "text/plain": [
       "  names  marks grades\n",
       "0   xyz     90      a\n",
       "1   yuv     98     a+\n",
       "2   jkn     96     a+\n",
       "3   duj     93     a+\n",
       "4   jin     52      c"
      ]
     },
     "execution_count": 11,
     "metadata": {},
     "output_type": "execute_result"
    }
   ],
   "source": [
    "mydf['names']=N\n",
    "mydf['marks']=M\n",
    "mydf['grades']=G\n",
    "mydf\n"
   ]
  },
  {
   "cell_type": "code",
   "execution_count": 13,
   "id": "81c7cbd8",
   "metadata": {},
   "outputs": [],
   "source": [
    "dfcsv=pd.read_csv(r\"C:\\Users\\91636\\Downloads\\grades_withnulls.csv\")"
   ]
  },
  {
   "cell_type": "code",
   "execution_count": 14,
   "id": "81609528",
   "metadata": {},
   "outputs": [
    {
     "data": {
      "text/html": [
       "<div>\n",
       "<style scoped>\n",
       "    .dataframe tbody tr th:only-of-type {\n",
       "        vertical-align: middle;\n",
       "    }\n",
       "\n",
       "    .dataframe tbody tr th {\n",
       "        vertical-align: top;\n",
       "    }\n",
       "\n",
       "    .dataframe thead th {\n",
       "        text-align: right;\n",
       "    }\n",
       "</style>\n",
       "<table border=\"1\" class=\"dataframe\">\n",
       "  <thead>\n",
       "    <tr style=\"text-align: right;\">\n",
       "      <th></th>\n",
       "      <th>Names</th>\n",
       "      <th>Initials</th>\n",
       "      <th>SEM1</th>\n",
       "      <th>SEM2</th>\n",
       "      <th>SEM3</th>\n",
       "      <th>Grade</th>\n",
       "      <th>Placed</th>\n",
       "    </tr>\n",
       "  </thead>\n",
       "  <tbody>\n",
       "    <tr>\n",
       "      <th>0</th>\n",
       "      <td>Joe</td>\n",
       "      <td>K</td>\n",
       "      <td>9.8</td>\n",
       "      <td>10.0</td>\n",
       "      <td>9.9</td>\n",
       "      <td>A+</td>\n",
       "      <td>1</td>\n",
       "    </tr>\n",
       "    <tr>\n",
       "      <th>1</th>\n",
       "      <td>Rajesh</td>\n",
       "      <td>M</td>\n",
       "      <td>8.9</td>\n",
       "      <td>9.1</td>\n",
       "      <td>9.3</td>\n",
       "      <td>A</td>\n",
       "      <td>1</td>\n",
       "    </tr>\n",
       "    <tr>\n",
       "      <th>2</th>\n",
       "      <td>Kissan</td>\n",
       "      <td>V</td>\n",
       "      <td>9.9</td>\n",
       "      <td>9.8</td>\n",
       "      <td>10.0</td>\n",
       "      <td>A</td>\n",
       "      <td>0</td>\n",
       "    </tr>\n",
       "    <tr>\n",
       "      <th>3</th>\n",
       "      <td>Mary</td>\n",
       "      <td>N</td>\n",
       "      <td>7.7</td>\n",
       "      <td>8.0</td>\n",
       "      <td>NaN</td>\n",
       "      <td>B</td>\n",
       "      <td>0</td>\n",
       "    </tr>\n",
       "    <tr>\n",
       "      <th>4</th>\n",
       "      <td>Jeen</td>\n",
       "      <td>K</td>\n",
       "      <td>9.8</td>\n",
       "      <td>9.1</td>\n",
       "      <td>9.9</td>\n",
       "      <td>A+</td>\n",
       "      <td>1</td>\n",
       "    </tr>\n",
       "    <tr>\n",
       "      <th>5</th>\n",
       "      <td>Raj</td>\n",
       "      <td>M</td>\n",
       "      <td>8.9</td>\n",
       "      <td>9.1</td>\n",
       "      <td>9.3</td>\n",
       "      <td>A</td>\n",
       "      <td>1</td>\n",
       "    </tr>\n",
       "    <tr>\n",
       "      <th>6</th>\n",
       "      <td>Hassan</td>\n",
       "      <td>V</td>\n",
       "      <td>9.9</td>\n",
       "      <td>9.0</td>\n",
       "      <td>9.2</td>\n",
       "      <td>A</td>\n",
       "      <td>1</td>\n",
       "    </tr>\n",
       "    <tr>\n",
       "      <th>7</th>\n",
       "      <td>Mari</td>\n",
       "      <td>N</td>\n",
       "      <td>7.7</td>\n",
       "      <td>8.0</td>\n",
       "      <td>7.1</td>\n",
       "      <td>B</td>\n",
       "      <td>1</td>\n",
       "    </tr>\n",
       "    <tr>\n",
       "      <th>8</th>\n",
       "      <td>Jess</td>\n",
       "      <td>K</td>\n",
       "      <td>NaN</td>\n",
       "      <td>9.1</td>\n",
       "      <td>9.9</td>\n",
       "      <td>A+</td>\n",
       "      <td>1</td>\n",
       "    </tr>\n",
       "    <tr>\n",
       "      <th>9</th>\n",
       "      <td>Rajini</td>\n",
       "      <td>M</td>\n",
       "      <td>NaN</td>\n",
       "      <td>9.1</td>\n",
       "      <td>9.3</td>\n",
       "      <td>A</td>\n",
       "      <td>0</td>\n",
       "    </tr>\n",
       "    <tr>\n",
       "      <th>10</th>\n",
       "      <td>Kiran</td>\n",
       "      <td>V</td>\n",
       "      <td>NaN</td>\n",
       "      <td>9.3</td>\n",
       "      <td>9.2</td>\n",
       "      <td>A</td>\n",
       "      <td>0</td>\n",
       "    </tr>\n",
       "    <tr>\n",
       "      <th>11</th>\n",
       "      <td>Maya</td>\n",
       "      <td>N</td>\n",
       "      <td>7.7</td>\n",
       "      <td>8.0</td>\n",
       "      <td>7.1</td>\n",
       "      <td>B</td>\n",
       "      <td>0</td>\n",
       "    </tr>\n",
       "    <tr>\n",
       "      <th>12</th>\n",
       "      <td>Jolin</td>\n",
       "      <td>K</td>\n",
       "      <td>9.8</td>\n",
       "      <td>9.1</td>\n",
       "      <td>9.9</td>\n",
       "      <td>A+</td>\n",
       "      <td>1</td>\n",
       "    </tr>\n",
       "    <tr>\n",
       "      <th>13</th>\n",
       "      <td>Rajesh</td>\n",
       "      <td>M</td>\n",
       "      <td>8.9</td>\n",
       "      <td>9.1</td>\n",
       "      <td>9.3</td>\n",
       "      <td>A</td>\n",
       "      <td>1</td>\n",
       "    </tr>\n",
       "    <tr>\n",
       "      <th>14</th>\n",
       "      <td>Riya</td>\n",
       "      <td>M</td>\n",
       "      <td>9.3</td>\n",
       "      <td>9.9</td>\n",
       "      <td>10.0</td>\n",
       "      <td>A</td>\n",
       "      <td>1</td>\n",
       "    </tr>\n",
       "    <tr>\n",
       "      <th>15</th>\n",
       "      <td>Sana</td>\n",
       "      <td>V</td>\n",
       "      <td>9.9</td>\n",
       "      <td>9.3</td>\n",
       "      <td>9.2</td>\n",
       "      <td>A</td>\n",
       "      <td>0</td>\n",
       "    </tr>\n",
       "    <tr>\n",
       "      <th>16</th>\n",
       "      <td>Mark</td>\n",
       "      <td>N</td>\n",
       "      <td>7.7</td>\n",
       "      <td>8.0</td>\n",
       "      <td>7.0</td>\n",
       "      <td>B</td>\n",
       "      <td>0</td>\n",
       "    </tr>\n",
       "  </tbody>\n",
       "</table>\n",
       "</div>"
      ],
      "text/plain": [
       "     Names Initials  SEM1  SEM2  SEM3 Grade  Placed\n",
       "0      Joe        K   9.8  10.0   9.9    A+       1\n",
       "1   Rajesh        M   8.9   9.1   9.3     A       1\n",
       "2   Kissan        V   9.9   9.8  10.0     A       0\n",
       "3     Mary        N   7.7   8.0   NaN     B       0\n",
       "4     Jeen        K   9.8   9.1   9.9    A+       1\n",
       "5      Raj        M   8.9   9.1   9.3     A       1\n",
       "6   Hassan        V   9.9   9.0   9.2     A       1\n",
       "7     Mari        N   7.7   8.0   7.1     B       1\n",
       "8     Jess        K   NaN   9.1   9.9    A+       1\n",
       "9   Rajini        M   NaN   9.1   9.3     A       0\n",
       "10   Kiran        V   NaN   9.3   9.2     A       0\n",
       "11    Maya        N   7.7   8.0   7.1     B       0\n",
       "12   Jolin        K   9.8   9.1   9.9    A+       1\n",
       "13  Rajesh        M   8.9   9.1   9.3     A       1\n",
       "14    Riya        M   9.3   9.9  10.0     A       1\n",
       "15    Sana        V   9.9   9.3   9.2     A       0\n",
       "16    Mark        N   7.7   8.0   7.0     B       0"
      ]
     },
     "execution_count": 14,
     "metadata": {},
     "output_type": "execute_result"
    }
   ],
   "source": [
    "dfcsv"
   ]
  },
  {
   "cell_type": "code",
   "execution_count": 17,
   "id": "2b0f7601",
   "metadata": {},
   "outputs": [],
   "source": [
    "dfex=pd.read_excel(r\"C:\\Users\\91636\\Downloads\\diabetes.xlsx\")"
   ]
  },
  {
   "cell_type": "code",
   "execution_count": 18,
   "id": "b0e5e5cc",
   "metadata": {},
   "outputs": [
    {
     "data": {
      "text/html": [
       "<div>\n",
       "<style scoped>\n",
       "    .dataframe tbody tr th:only-of-type {\n",
       "        vertical-align: middle;\n",
       "    }\n",
       "\n",
       "    .dataframe tbody tr th {\n",
       "        vertical-align: top;\n",
       "    }\n",
       "\n",
       "    .dataframe thead th {\n",
       "        text-align: right;\n",
       "    }\n",
       "</style>\n",
       "<table border=\"1\" class=\"dataframe\">\n",
       "  <thead>\n",
       "    <tr style=\"text-align: right;\">\n",
       "      <th></th>\n",
       "      <th>preg</th>\n",
       "      <th>plas</th>\n",
       "      <th>pres</th>\n",
       "      <th>skin</th>\n",
       "      <th>insu</th>\n",
       "      <th>mass</th>\n",
       "      <th>pedi</th>\n",
       "      <th>age</th>\n",
       "      <th>class</th>\n",
       "    </tr>\n",
       "  </thead>\n",
       "  <tbody>\n",
       "    <tr>\n",
       "      <th>0</th>\n",
       "      <td>6</td>\n",
       "      <td>148</td>\n",
       "      <td>72</td>\n",
       "      <td>35</td>\n",
       "      <td>0</td>\n",
       "      <td>33.6</td>\n",
       "      <td>0.627</td>\n",
       "      <td>50</td>\n",
       "      <td>tested_positive</td>\n",
       "    </tr>\n",
       "    <tr>\n",
       "      <th>1</th>\n",
       "      <td>1</td>\n",
       "      <td>85</td>\n",
       "      <td>66</td>\n",
       "      <td>29</td>\n",
       "      <td>0</td>\n",
       "      <td>26.6</td>\n",
       "      <td>0.351</td>\n",
       "      <td>31</td>\n",
       "      <td>tested_negative</td>\n",
       "    </tr>\n",
       "    <tr>\n",
       "      <th>2</th>\n",
       "      <td>8</td>\n",
       "      <td>183</td>\n",
       "      <td>64</td>\n",
       "      <td>0</td>\n",
       "      <td>0</td>\n",
       "      <td>23.3</td>\n",
       "      <td>0.672</td>\n",
       "      <td>32</td>\n",
       "      <td>tested_positive</td>\n",
       "    </tr>\n",
       "    <tr>\n",
       "      <th>3</th>\n",
       "      <td>1</td>\n",
       "      <td>89</td>\n",
       "      <td>66</td>\n",
       "      <td>23</td>\n",
       "      <td>94</td>\n",
       "      <td>28.1</td>\n",
       "      <td>0.167</td>\n",
       "      <td>21</td>\n",
       "      <td>tested_negative</td>\n",
       "    </tr>\n",
       "    <tr>\n",
       "      <th>4</th>\n",
       "      <td>0</td>\n",
       "      <td>137</td>\n",
       "      <td>40</td>\n",
       "      <td>35</td>\n",
       "      <td>168</td>\n",
       "      <td>43.1</td>\n",
       "      <td>2.288</td>\n",
       "      <td>33</td>\n",
       "      <td>tested_positive</td>\n",
       "    </tr>\n",
       "    <tr>\n",
       "      <th>...</th>\n",
       "      <td>...</td>\n",
       "      <td>...</td>\n",
       "      <td>...</td>\n",
       "      <td>...</td>\n",
       "      <td>...</td>\n",
       "      <td>...</td>\n",
       "      <td>...</td>\n",
       "      <td>...</td>\n",
       "      <td>...</td>\n",
       "    </tr>\n",
       "    <tr>\n",
       "      <th>763</th>\n",
       "      <td>10</td>\n",
       "      <td>101</td>\n",
       "      <td>76</td>\n",
       "      <td>48</td>\n",
       "      <td>180</td>\n",
       "      <td>32.9</td>\n",
       "      <td>0.171</td>\n",
       "      <td>63</td>\n",
       "      <td>tested_negative</td>\n",
       "    </tr>\n",
       "    <tr>\n",
       "      <th>764</th>\n",
       "      <td>2</td>\n",
       "      <td>122</td>\n",
       "      <td>70</td>\n",
       "      <td>27</td>\n",
       "      <td>0</td>\n",
       "      <td>36.8</td>\n",
       "      <td>0.340</td>\n",
       "      <td>27</td>\n",
       "      <td>tested_negative</td>\n",
       "    </tr>\n",
       "    <tr>\n",
       "      <th>765</th>\n",
       "      <td>5</td>\n",
       "      <td>121</td>\n",
       "      <td>72</td>\n",
       "      <td>23</td>\n",
       "      <td>112</td>\n",
       "      <td>26.2</td>\n",
       "      <td>0.245</td>\n",
       "      <td>30</td>\n",
       "      <td>tested_negative</td>\n",
       "    </tr>\n",
       "    <tr>\n",
       "      <th>766</th>\n",
       "      <td>1</td>\n",
       "      <td>126</td>\n",
       "      <td>60</td>\n",
       "      <td>0</td>\n",
       "      <td>0</td>\n",
       "      <td>30.1</td>\n",
       "      <td>0.349</td>\n",
       "      <td>47</td>\n",
       "      <td>tested_positive</td>\n",
       "    </tr>\n",
       "    <tr>\n",
       "      <th>767</th>\n",
       "      <td>1</td>\n",
       "      <td>93</td>\n",
       "      <td>70</td>\n",
       "      <td>31</td>\n",
       "      <td>0</td>\n",
       "      <td>30.4</td>\n",
       "      <td>0.315</td>\n",
       "      <td>23</td>\n",
       "      <td>tested_negative</td>\n",
       "    </tr>\n",
       "  </tbody>\n",
       "</table>\n",
       "<p>768 rows × 9 columns</p>\n",
       "</div>"
      ],
      "text/plain": [
       "     preg  plas  pres  skin  insu  mass   pedi  age            class\n",
       "0       6   148    72    35     0  33.6  0.627   50  tested_positive\n",
       "1       1    85    66    29     0  26.6  0.351   31  tested_negative\n",
       "2       8   183    64     0     0  23.3  0.672   32  tested_positive\n",
       "3       1    89    66    23    94  28.1  0.167   21  tested_negative\n",
       "4       0   137    40    35   168  43.1  2.288   33  tested_positive\n",
       "..    ...   ...   ...   ...   ...   ...    ...  ...              ...\n",
       "763    10   101    76    48   180  32.9  0.171   63  tested_negative\n",
       "764     2   122    70    27     0  36.8  0.340   27  tested_negative\n",
       "765     5   121    72    23   112  26.2  0.245   30  tested_negative\n",
       "766     1   126    60     0     0  30.1  0.349   47  tested_positive\n",
       "767     1    93    70    31     0  30.4  0.315   23  tested_negative\n",
       "\n",
       "[768 rows x 9 columns]"
      ]
     },
     "execution_count": 18,
     "metadata": {},
     "output_type": "execute_result"
    }
   ],
   "source": [
    "dfex"
   ]
  },
  {
   "cell_type": "code",
   "execution_count": 20,
   "id": "3ccd72b9",
   "metadata": {},
   "outputs": [
    {
     "data": {
      "text/html": [
       "<div>\n",
       "<style scoped>\n",
       "    .dataframe tbody tr th:only-of-type {\n",
       "        vertical-align: middle;\n",
       "    }\n",
       "\n",
       "    .dataframe tbody tr th {\n",
       "        vertical-align: top;\n",
       "    }\n",
       "\n",
       "    .dataframe thead th {\n",
       "        text-align: right;\n",
       "    }\n",
       "</style>\n",
       "<table border=\"1\" class=\"dataframe\">\n",
       "  <thead>\n",
       "    <tr style=\"text-align: right;\">\n",
       "      <th></th>\n",
       "      <th>preg</th>\n",
       "      <th>plas</th>\n",
       "      <th>pres</th>\n",
       "      <th>skin</th>\n",
       "      <th>insu</th>\n",
       "      <th>mass</th>\n",
       "      <th>pedi</th>\n",
       "      <th>age</th>\n",
       "    </tr>\n",
       "  </thead>\n",
       "  <tbody>\n",
       "    <tr>\n",
       "      <th>count</th>\n",
       "      <td>768.000000</td>\n",
       "      <td>768.000000</td>\n",
       "      <td>768.000000</td>\n",
       "      <td>768.000000</td>\n",
       "      <td>768.000000</td>\n",
       "      <td>768.000000</td>\n",
       "      <td>768.000000</td>\n",
       "      <td>768.000000</td>\n",
       "    </tr>\n",
       "    <tr>\n",
       "      <th>mean</th>\n",
       "      <td>3.845052</td>\n",
       "      <td>120.894531</td>\n",
       "      <td>69.105469</td>\n",
       "      <td>20.536458</td>\n",
       "      <td>79.799479</td>\n",
       "      <td>31.992578</td>\n",
       "      <td>0.471876</td>\n",
       "      <td>33.240885</td>\n",
       "    </tr>\n",
       "    <tr>\n",
       "      <th>std</th>\n",
       "      <td>3.369578</td>\n",
       "      <td>31.972618</td>\n",
       "      <td>19.355807</td>\n",
       "      <td>15.952218</td>\n",
       "      <td>115.244002</td>\n",
       "      <td>7.884160</td>\n",
       "      <td>0.331329</td>\n",
       "      <td>11.760232</td>\n",
       "    </tr>\n",
       "    <tr>\n",
       "      <th>min</th>\n",
       "      <td>0.000000</td>\n",
       "      <td>0.000000</td>\n",
       "      <td>0.000000</td>\n",
       "      <td>0.000000</td>\n",
       "      <td>0.000000</td>\n",
       "      <td>0.000000</td>\n",
       "      <td>0.078000</td>\n",
       "      <td>21.000000</td>\n",
       "    </tr>\n",
       "    <tr>\n",
       "      <th>25%</th>\n",
       "      <td>1.000000</td>\n",
       "      <td>99.000000</td>\n",
       "      <td>62.000000</td>\n",
       "      <td>0.000000</td>\n",
       "      <td>0.000000</td>\n",
       "      <td>27.300000</td>\n",
       "      <td>0.243750</td>\n",
       "      <td>24.000000</td>\n",
       "    </tr>\n",
       "    <tr>\n",
       "      <th>50%</th>\n",
       "      <td>3.000000</td>\n",
       "      <td>117.000000</td>\n",
       "      <td>72.000000</td>\n",
       "      <td>23.000000</td>\n",
       "      <td>30.500000</td>\n",
       "      <td>32.000000</td>\n",
       "      <td>0.372500</td>\n",
       "      <td>29.000000</td>\n",
       "    </tr>\n",
       "    <tr>\n",
       "      <th>75%</th>\n",
       "      <td>6.000000</td>\n",
       "      <td>140.250000</td>\n",
       "      <td>80.000000</td>\n",
       "      <td>32.000000</td>\n",
       "      <td>127.250000</td>\n",
       "      <td>36.600000</td>\n",
       "      <td>0.626250</td>\n",
       "      <td>41.000000</td>\n",
       "    </tr>\n",
       "    <tr>\n",
       "      <th>max</th>\n",
       "      <td>17.000000</td>\n",
       "      <td>199.000000</td>\n",
       "      <td>122.000000</td>\n",
       "      <td>99.000000</td>\n",
       "      <td>846.000000</td>\n",
       "      <td>67.100000</td>\n",
       "      <td>2.420000</td>\n",
       "      <td>81.000000</td>\n",
       "    </tr>\n",
       "  </tbody>\n",
       "</table>\n",
       "</div>"
      ],
      "text/plain": [
       "             preg        plas        pres        skin        insu        mass  \\\n",
       "count  768.000000  768.000000  768.000000  768.000000  768.000000  768.000000   \n",
       "mean     3.845052  120.894531   69.105469   20.536458   79.799479   31.992578   \n",
       "std      3.369578   31.972618   19.355807   15.952218  115.244002    7.884160   \n",
       "min      0.000000    0.000000    0.000000    0.000000    0.000000    0.000000   \n",
       "25%      1.000000   99.000000   62.000000    0.000000    0.000000   27.300000   \n",
       "50%      3.000000  117.000000   72.000000   23.000000   30.500000   32.000000   \n",
       "75%      6.000000  140.250000   80.000000   32.000000  127.250000   36.600000   \n",
       "max     17.000000  199.000000  122.000000   99.000000  846.000000   67.100000   \n",
       "\n",
       "             pedi         age  \n",
       "count  768.000000  768.000000  \n",
       "mean     0.471876   33.240885  \n",
       "std      0.331329   11.760232  \n",
       "min      0.078000   21.000000  \n",
       "25%      0.243750   24.000000  \n",
       "50%      0.372500   29.000000  \n",
       "75%      0.626250   41.000000  \n",
       "max      2.420000   81.000000  "
      ]
     },
     "execution_count": 20,
     "metadata": {},
     "output_type": "execute_result"
    }
   ],
   "source": [
    "dfex.describe()"
   ]
  },
  {
   "cell_type": "code",
   "execution_count": 23,
   "id": "4d52b520",
   "metadata": {},
   "outputs": [],
   "source": [
    "demodf=pd.read_csv(r\"C:\\Users\\91636\\Downloads\\grades_withnulls.csv\")"
   ]
  },
  {
   "cell_type": "code",
   "execution_count": 24,
   "id": "97b20d2e",
   "metadata": {},
   "outputs": [
    {
     "data": {
      "text/html": [
       "<div>\n",
       "<style scoped>\n",
       "    .dataframe tbody tr th:only-of-type {\n",
       "        vertical-align: middle;\n",
       "    }\n",
       "\n",
       "    .dataframe tbody tr th {\n",
       "        vertical-align: top;\n",
       "    }\n",
       "\n",
       "    .dataframe thead th {\n",
       "        text-align: right;\n",
       "    }\n",
       "</style>\n",
       "<table border=\"1\" class=\"dataframe\">\n",
       "  <thead>\n",
       "    <tr style=\"text-align: right;\">\n",
       "      <th></th>\n",
       "      <th>Names</th>\n",
       "      <th>Initials</th>\n",
       "      <th>SEM1</th>\n",
       "      <th>SEM2</th>\n",
       "      <th>SEM3</th>\n",
       "      <th>Grade</th>\n",
       "      <th>Placed</th>\n",
       "    </tr>\n",
       "  </thead>\n",
       "  <tbody>\n",
       "    <tr>\n",
       "      <th>0</th>\n",
       "      <td>Joe</td>\n",
       "      <td>K</td>\n",
       "      <td>9.8</td>\n",
       "      <td>10.0</td>\n",
       "      <td>9.9</td>\n",
       "      <td>A+</td>\n",
       "      <td>1</td>\n",
       "    </tr>\n",
       "    <tr>\n",
       "      <th>1</th>\n",
       "      <td>Rajesh</td>\n",
       "      <td>M</td>\n",
       "      <td>8.9</td>\n",
       "      <td>9.1</td>\n",
       "      <td>9.3</td>\n",
       "      <td>A</td>\n",
       "      <td>1</td>\n",
       "    </tr>\n",
       "    <tr>\n",
       "      <th>2</th>\n",
       "      <td>Kissan</td>\n",
       "      <td>V</td>\n",
       "      <td>9.9</td>\n",
       "      <td>9.8</td>\n",
       "      <td>10.0</td>\n",
       "      <td>A</td>\n",
       "      <td>0</td>\n",
       "    </tr>\n",
       "    <tr>\n",
       "      <th>3</th>\n",
       "      <td>Mary</td>\n",
       "      <td>N</td>\n",
       "      <td>7.7</td>\n",
       "      <td>8.0</td>\n",
       "      <td>NaN</td>\n",
       "      <td>B</td>\n",
       "      <td>0</td>\n",
       "    </tr>\n",
       "    <tr>\n",
       "      <th>4</th>\n",
       "      <td>Jeen</td>\n",
       "      <td>K</td>\n",
       "      <td>9.8</td>\n",
       "      <td>9.1</td>\n",
       "      <td>9.9</td>\n",
       "      <td>A+</td>\n",
       "      <td>1</td>\n",
       "    </tr>\n",
       "    <tr>\n",
       "      <th>5</th>\n",
       "      <td>Raj</td>\n",
       "      <td>M</td>\n",
       "      <td>8.9</td>\n",
       "      <td>9.1</td>\n",
       "      <td>9.3</td>\n",
       "      <td>A</td>\n",
       "      <td>1</td>\n",
       "    </tr>\n",
       "    <tr>\n",
       "      <th>6</th>\n",
       "      <td>Hassan</td>\n",
       "      <td>V</td>\n",
       "      <td>9.9</td>\n",
       "      <td>9.0</td>\n",
       "      <td>9.2</td>\n",
       "      <td>A</td>\n",
       "      <td>1</td>\n",
       "    </tr>\n",
       "    <tr>\n",
       "      <th>7</th>\n",
       "      <td>Mari</td>\n",
       "      <td>N</td>\n",
       "      <td>7.7</td>\n",
       "      <td>8.0</td>\n",
       "      <td>7.1</td>\n",
       "      <td>B</td>\n",
       "      <td>1</td>\n",
       "    </tr>\n",
       "    <tr>\n",
       "      <th>8</th>\n",
       "      <td>Jess</td>\n",
       "      <td>K</td>\n",
       "      <td>NaN</td>\n",
       "      <td>9.1</td>\n",
       "      <td>9.9</td>\n",
       "      <td>A+</td>\n",
       "      <td>1</td>\n",
       "    </tr>\n",
       "    <tr>\n",
       "      <th>9</th>\n",
       "      <td>Rajini</td>\n",
       "      <td>M</td>\n",
       "      <td>NaN</td>\n",
       "      <td>9.1</td>\n",
       "      <td>9.3</td>\n",
       "      <td>A</td>\n",
       "      <td>0</td>\n",
       "    </tr>\n",
       "    <tr>\n",
       "      <th>10</th>\n",
       "      <td>Kiran</td>\n",
       "      <td>V</td>\n",
       "      <td>NaN</td>\n",
       "      <td>9.3</td>\n",
       "      <td>9.2</td>\n",
       "      <td>A</td>\n",
       "      <td>0</td>\n",
       "    </tr>\n",
       "    <tr>\n",
       "      <th>11</th>\n",
       "      <td>Maya</td>\n",
       "      <td>N</td>\n",
       "      <td>7.7</td>\n",
       "      <td>8.0</td>\n",
       "      <td>7.1</td>\n",
       "      <td>B</td>\n",
       "      <td>0</td>\n",
       "    </tr>\n",
       "    <tr>\n",
       "      <th>12</th>\n",
       "      <td>Jolin</td>\n",
       "      <td>K</td>\n",
       "      <td>9.8</td>\n",
       "      <td>9.1</td>\n",
       "      <td>9.9</td>\n",
       "      <td>A+</td>\n",
       "      <td>1</td>\n",
       "    </tr>\n",
       "    <tr>\n",
       "      <th>13</th>\n",
       "      <td>Rajesh</td>\n",
       "      <td>M</td>\n",
       "      <td>8.9</td>\n",
       "      <td>9.1</td>\n",
       "      <td>9.3</td>\n",
       "      <td>A</td>\n",
       "      <td>1</td>\n",
       "    </tr>\n",
       "    <tr>\n",
       "      <th>14</th>\n",
       "      <td>Riya</td>\n",
       "      <td>M</td>\n",
       "      <td>9.3</td>\n",
       "      <td>9.9</td>\n",
       "      <td>10.0</td>\n",
       "      <td>A</td>\n",
       "      <td>1</td>\n",
       "    </tr>\n",
       "    <tr>\n",
       "      <th>15</th>\n",
       "      <td>Sana</td>\n",
       "      <td>V</td>\n",
       "      <td>9.9</td>\n",
       "      <td>9.3</td>\n",
       "      <td>9.2</td>\n",
       "      <td>A</td>\n",
       "      <td>0</td>\n",
       "    </tr>\n",
       "    <tr>\n",
       "      <th>16</th>\n",
       "      <td>Mark</td>\n",
       "      <td>N</td>\n",
       "      <td>7.7</td>\n",
       "      <td>8.0</td>\n",
       "      <td>7.0</td>\n",
       "      <td>B</td>\n",
       "      <td>0</td>\n",
       "    </tr>\n",
       "  </tbody>\n",
       "</table>\n",
       "</div>"
      ],
      "text/plain": [
       "     Names Initials  SEM1  SEM2  SEM3 Grade  Placed\n",
       "0      Joe        K   9.8  10.0   9.9    A+       1\n",
       "1   Rajesh        M   8.9   9.1   9.3     A       1\n",
       "2   Kissan        V   9.9   9.8  10.0     A       0\n",
       "3     Mary        N   7.7   8.0   NaN     B       0\n",
       "4     Jeen        K   9.8   9.1   9.9    A+       1\n",
       "5      Raj        M   8.9   9.1   9.3     A       1\n",
       "6   Hassan        V   9.9   9.0   9.2     A       1\n",
       "7     Mari        N   7.7   8.0   7.1     B       1\n",
       "8     Jess        K   NaN   9.1   9.9    A+       1\n",
       "9   Rajini        M   NaN   9.1   9.3     A       0\n",
       "10   Kiran        V   NaN   9.3   9.2     A       0\n",
       "11    Maya        N   7.7   8.0   7.1     B       0\n",
       "12   Jolin        K   9.8   9.1   9.9    A+       1\n",
       "13  Rajesh        M   8.9   9.1   9.3     A       1\n",
       "14    Riya        M   9.3   9.9  10.0     A       1\n",
       "15    Sana        V   9.9   9.3   9.2     A       0\n",
       "16    Mark        N   7.7   8.0   7.0     B       0"
      ]
     },
     "execution_count": 24,
     "metadata": {},
     "output_type": "execute_result"
    }
   ],
   "source": [
    "demodf"
   ]
  },
  {
   "cell_type": "code",
   "execution_count": 25,
   "id": "d61f618b",
   "metadata": {},
   "outputs": [
    {
     "data": {
      "text/html": [
       "<div>\n",
       "<style scoped>\n",
       "    .dataframe tbody tr th:only-of-type {\n",
       "        vertical-align: middle;\n",
       "    }\n",
       "\n",
       "    .dataframe tbody tr th {\n",
       "        vertical-align: top;\n",
       "    }\n",
       "\n",
       "    .dataframe thead th {\n",
       "        text-align: right;\n",
       "    }\n",
       "</style>\n",
       "<table border=\"1\" class=\"dataframe\">\n",
       "  <thead>\n",
       "    <tr style=\"text-align: right;\">\n",
       "      <th></th>\n",
       "      <th>Names</th>\n",
       "      <th>Initials</th>\n",
       "      <th>SEM1</th>\n",
       "      <th>SEM2</th>\n",
       "      <th>SEM3</th>\n",
       "      <th>Grade</th>\n",
       "      <th>Placed</th>\n",
       "    </tr>\n",
       "  </thead>\n",
       "  <tbody>\n",
       "    <tr>\n",
       "      <th>0</th>\n",
       "      <td>Joe</td>\n",
       "      <td>K</td>\n",
       "      <td>9.8</td>\n",
       "      <td>10.0</td>\n",
       "      <td>9.9</td>\n",
       "      <td>A+</td>\n",
       "      <td>1</td>\n",
       "    </tr>\n",
       "    <tr>\n",
       "      <th>1</th>\n",
       "      <td>Rajesh</td>\n",
       "      <td>M</td>\n",
       "      <td>8.9</td>\n",
       "      <td>9.1</td>\n",
       "      <td>9.3</td>\n",
       "      <td>A</td>\n",
       "      <td>1</td>\n",
       "    </tr>\n",
       "    <tr>\n",
       "      <th>2</th>\n",
       "      <td>Kissan</td>\n",
       "      <td>V</td>\n",
       "      <td>9.9</td>\n",
       "      <td>9.8</td>\n",
       "      <td>10.0</td>\n",
       "      <td>A</td>\n",
       "      <td>0</td>\n",
       "    </tr>\n",
       "    <tr>\n",
       "      <th>3</th>\n",
       "      <td>Mary</td>\n",
       "      <td>N</td>\n",
       "      <td>7.7</td>\n",
       "      <td>8.0</td>\n",
       "      <td>NaN</td>\n",
       "      <td>B</td>\n",
       "      <td>0</td>\n",
       "    </tr>\n",
       "    <tr>\n",
       "      <th>4</th>\n",
       "      <td>Jeen</td>\n",
       "      <td>K</td>\n",
       "      <td>9.8</td>\n",
       "      <td>9.1</td>\n",
       "      <td>9.9</td>\n",
       "      <td>A+</td>\n",
       "      <td>1</td>\n",
       "    </tr>\n",
       "    <tr>\n",
       "      <th>5</th>\n",
       "      <td>Raj</td>\n",
       "      <td>M</td>\n",
       "      <td>8.9</td>\n",
       "      <td>9.1</td>\n",
       "      <td>9.3</td>\n",
       "      <td>A</td>\n",
       "      <td>1</td>\n",
       "    </tr>\n",
       "    <tr>\n",
       "      <th>6</th>\n",
       "      <td>Hassan</td>\n",
       "      <td>V</td>\n",
       "      <td>9.9</td>\n",
       "      <td>9.0</td>\n",
       "      <td>9.2</td>\n",
       "      <td>A</td>\n",
       "      <td>1</td>\n",
       "    </tr>\n",
       "    <tr>\n",
       "      <th>7</th>\n",
       "      <td>Mari</td>\n",
       "      <td>N</td>\n",
       "      <td>7.7</td>\n",
       "      <td>8.0</td>\n",
       "      <td>7.1</td>\n",
       "      <td>B</td>\n",
       "      <td>1</td>\n",
       "    </tr>\n",
       "    <tr>\n",
       "      <th>8</th>\n",
       "      <td>Jess</td>\n",
       "      <td>K</td>\n",
       "      <td>NaN</td>\n",
       "      <td>9.1</td>\n",
       "      <td>9.9</td>\n",
       "      <td>A+</td>\n",
       "      <td>1</td>\n",
       "    </tr>\n",
       "    <tr>\n",
       "      <th>9</th>\n",
       "      <td>Rajini</td>\n",
       "      <td>M</td>\n",
       "      <td>NaN</td>\n",
       "      <td>9.1</td>\n",
       "      <td>9.3</td>\n",
       "      <td>A</td>\n",
       "      <td>0</td>\n",
       "    </tr>\n",
       "    <tr>\n",
       "      <th>10</th>\n",
       "      <td>Kiran</td>\n",
       "      <td>V</td>\n",
       "      <td>NaN</td>\n",
       "      <td>9.3</td>\n",
       "      <td>9.2</td>\n",
       "      <td>A</td>\n",
       "      <td>0</td>\n",
       "    </tr>\n",
       "    <tr>\n",
       "      <th>11</th>\n",
       "      <td>Maya</td>\n",
       "      <td>N</td>\n",
       "      <td>7.7</td>\n",
       "      <td>8.0</td>\n",
       "      <td>7.1</td>\n",
       "      <td>B</td>\n",
       "      <td>0</td>\n",
       "    </tr>\n",
       "    <tr>\n",
       "      <th>12</th>\n",
       "      <td>Jolin</td>\n",
       "      <td>K</td>\n",
       "      <td>9.8</td>\n",
       "      <td>9.1</td>\n",
       "      <td>9.9</td>\n",
       "      <td>A+</td>\n",
       "      <td>1</td>\n",
       "    </tr>\n",
       "    <tr>\n",
       "      <th>14</th>\n",
       "      <td>Riya</td>\n",
       "      <td>M</td>\n",
       "      <td>9.3</td>\n",
       "      <td>9.9</td>\n",
       "      <td>10.0</td>\n",
       "      <td>A</td>\n",
       "      <td>1</td>\n",
       "    </tr>\n",
       "    <tr>\n",
       "      <th>15</th>\n",
       "      <td>Sana</td>\n",
       "      <td>V</td>\n",
       "      <td>9.9</td>\n",
       "      <td>9.3</td>\n",
       "      <td>9.2</td>\n",
       "      <td>A</td>\n",
       "      <td>0</td>\n",
       "    </tr>\n",
       "    <tr>\n",
       "      <th>16</th>\n",
       "      <td>Mark</td>\n",
       "      <td>N</td>\n",
       "      <td>7.7</td>\n",
       "      <td>8.0</td>\n",
       "      <td>7.0</td>\n",
       "      <td>B</td>\n",
       "      <td>0</td>\n",
       "    </tr>\n",
       "  </tbody>\n",
       "</table>\n",
       "</div>"
      ],
      "text/plain": [
       "     Names Initials  SEM1  SEM2  SEM3 Grade  Placed\n",
       "0      Joe        K   9.8  10.0   9.9    A+       1\n",
       "1   Rajesh        M   8.9   9.1   9.3     A       1\n",
       "2   Kissan        V   9.9   9.8  10.0     A       0\n",
       "3     Mary        N   7.7   8.0   NaN     B       0\n",
       "4     Jeen        K   9.8   9.1   9.9    A+       1\n",
       "5      Raj        M   8.9   9.1   9.3     A       1\n",
       "6   Hassan        V   9.9   9.0   9.2     A       1\n",
       "7     Mari        N   7.7   8.0   7.1     B       1\n",
       "8     Jess        K   NaN   9.1   9.9    A+       1\n",
       "9   Rajini        M   NaN   9.1   9.3     A       0\n",
       "10   Kiran        V   NaN   9.3   9.2     A       0\n",
       "11    Maya        N   7.7   8.0   7.1     B       0\n",
       "12   Jolin        K   9.8   9.1   9.9    A+       1\n",
       "14    Riya        M   9.3   9.9  10.0     A       1\n",
       "15    Sana        V   9.9   9.3   9.2     A       0\n",
       "16    Mark        N   7.7   8.0   7.0     B       0"
      ]
     },
     "execution_count": 25,
     "metadata": {},
     "output_type": "execute_result"
    }
   ],
   "source": [
    "demodf.drop_duplicates(inplace=True)\n",
    "demodf"
   ]
  },
  {
   "cell_type": "code",
   "execution_count": 26,
   "id": "df6c8c78",
   "metadata": {},
   "outputs": [],
   "source": [
    "demodf.fillna(7,inplace=True)"
   ]
  },
  {
   "cell_type": "code",
   "execution_count": 27,
   "id": "def37008",
   "metadata": {},
   "outputs": [
    {
     "data": {
      "text/html": [
       "<div>\n",
       "<style scoped>\n",
       "    .dataframe tbody tr th:only-of-type {\n",
       "        vertical-align: middle;\n",
       "    }\n",
       "\n",
       "    .dataframe tbody tr th {\n",
       "        vertical-align: top;\n",
       "    }\n",
       "\n",
       "    .dataframe thead th {\n",
       "        text-align: right;\n",
       "    }\n",
       "</style>\n",
       "<table border=\"1\" class=\"dataframe\">\n",
       "  <thead>\n",
       "    <tr style=\"text-align: right;\">\n",
       "      <th></th>\n",
       "      <th>Names</th>\n",
       "      <th>Initials</th>\n",
       "      <th>SEM1</th>\n",
       "      <th>SEM2</th>\n",
       "      <th>SEM3</th>\n",
       "      <th>Grade</th>\n",
       "      <th>Placed</th>\n",
       "    </tr>\n",
       "  </thead>\n",
       "  <tbody>\n",
       "    <tr>\n",
       "      <th>0</th>\n",
       "      <td>Joe</td>\n",
       "      <td>K</td>\n",
       "      <td>9.8</td>\n",
       "      <td>10.0</td>\n",
       "      <td>9.9</td>\n",
       "      <td>A+</td>\n",
       "      <td>1</td>\n",
       "    </tr>\n",
       "    <tr>\n",
       "      <th>1</th>\n",
       "      <td>Rajesh</td>\n",
       "      <td>M</td>\n",
       "      <td>8.9</td>\n",
       "      <td>9.1</td>\n",
       "      <td>9.3</td>\n",
       "      <td>A</td>\n",
       "      <td>1</td>\n",
       "    </tr>\n",
       "    <tr>\n",
       "      <th>2</th>\n",
       "      <td>Kissan</td>\n",
       "      <td>V</td>\n",
       "      <td>9.9</td>\n",
       "      <td>9.8</td>\n",
       "      <td>10.0</td>\n",
       "      <td>A</td>\n",
       "      <td>0</td>\n",
       "    </tr>\n",
       "    <tr>\n",
       "      <th>3</th>\n",
       "      <td>Mary</td>\n",
       "      <td>N</td>\n",
       "      <td>7.7</td>\n",
       "      <td>8.0</td>\n",
       "      <td>7.0</td>\n",
       "      <td>B</td>\n",
       "      <td>0</td>\n",
       "    </tr>\n",
       "    <tr>\n",
       "      <th>4</th>\n",
       "      <td>Jeen</td>\n",
       "      <td>K</td>\n",
       "      <td>9.8</td>\n",
       "      <td>9.1</td>\n",
       "      <td>9.9</td>\n",
       "      <td>A+</td>\n",
       "      <td>1</td>\n",
       "    </tr>\n",
       "    <tr>\n",
       "      <th>5</th>\n",
       "      <td>Raj</td>\n",
       "      <td>M</td>\n",
       "      <td>8.9</td>\n",
       "      <td>9.1</td>\n",
       "      <td>9.3</td>\n",
       "      <td>A</td>\n",
       "      <td>1</td>\n",
       "    </tr>\n",
       "    <tr>\n",
       "      <th>6</th>\n",
       "      <td>Hassan</td>\n",
       "      <td>V</td>\n",
       "      <td>9.9</td>\n",
       "      <td>9.0</td>\n",
       "      <td>9.2</td>\n",
       "      <td>A</td>\n",
       "      <td>1</td>\n",
       "    </tr>\n",
       "    <tr>\n",
       "      <th>7</th>\n",
       "      <td>Mari</td>\n",
       "      <td>N</td>\n",
       "      <td>7.7</td>\n",
       "      <td>8.0</td>\n",
       "      <td>7.1</td>\n",
       "      <td>B</td>\n",
       "      <td>1</td>\n",
       "    </tr>\n",
       "    <tr>\n",
       "      <th>8</th>\n",
       "      <td>Jess</td>\n",
       "      <td>K</td>\n",
       "      <td>7.0</td>\n",
       "      <td>9.1</td>\n",
       "      <td>9.9</td>\n",
       "      <td>A+</td>\n",
       "      <td>1</td>\n",
       "    </tr>\n",
       "    <tr>\n",
       "      <th>9</th>\n",
       "      <td>Rajini</td>\n",
       "      <td>M</td>\n",
       "      <td>7.0</td>\n",
       "      <td>9.1</td>\n",
       "      <td>9.3</td>\n",
       "      <td>A</td>\n",
       "      <td>0</td>\n",
       "    </tr>\n",
       "    <tr>\n",
       "      <th>10</th>\n",
       "      <td>Kiran</td>\n",
       "      <td>V</td>\n",
       "      <td>7.0</td>\n",
       "      <td>9.3</td>\n",
       "      <td>9.2</td>\n",
       "      <td>A</td>\n",
       "      <td>0</td>\n",
       "    </tr>\n",
       "    <tr>\n",
       "      <th>11</th>\n",
       "      <td>Maya</td>\n",
       "      <td>N</td>\n",
       "      <td>7.7</td>\n",
       "      <td>8.0</td>\n",
       "      <td>7.1</td>\n",
       "      <td>B</td>\n",
       "      <td>0</td>\n",
       "    </tr>\n",
       "    <tr>\n",
       "      <th>12</th>\n",
       "      <td>Jolin</td>\n",
       "      <td>K</td>\n",
       "      <td>9.8</td>\n",
       "      <td>9.1</td>\n",
       "      <td>9.9</td>\n",
       "      <td>A+</td>\n",
       "      <td>1</td>\n",
       "    </tr>\n",
       "    <tr>\n",
       "      <th>14</th>\n",
       "      <td>Riya</td>\n",
       "      <td>M</td>\n",
       "      <td>9.3</td>\n",
       "      <td>9.9</td>\n",
       "      <td>10.0</td>\n",
       "      <td>A</td>\n",
       "      <td>1</td>\n",
       "    </tr>\n",
       "    <tr>\n",
       "      <th>15</th>\n",
       "      <td>Sana</td>\n",
       "      <td>V</td>\n",
       "      <td>9.9</td>\n",
       "      <td>9.3</td>\n",
       "      <td>9.2</td>\n",
       "      <td>A</td>\n",
       "      <td>0</td>\n",
       "    </tr>\n",
       "    <tr>\n",
       "      <th>16</th>\n",
       "      <td>Mark</td>\n",
       "      <td>N</td>\n",
       "      <td>7.7</td>\n",
       "      <td>8.0</td>\n",
       "      <td>7.0</td>\n",
       "      <td>B</td>\n",
       "      <td>0</td>\n",
       "    </tr>\n",
       "  </tbody>\n",
       "</table>\n",
       "</div>"
      ],
      "text/plain": [
       "     Names Initials  SEM1  SEM2  SEM3 Grade  Placed\n",
       "0      Joe        K   9.8  10.0   9.9    A+       1\n",
       "1   Rajesh        M   8.9   9.1   9.3     A       1\n",
       "2   Kissan        V   9.9   9.8  10.0     A       0\n",
       "3     Mary        N   7.7   8.0   7.0     B       0\n",
       "4     Jeen        K   9.8   9.1   9.9    A+       1\n",
       "5      Raj        M   8.9   9.1   9.3     A       1\n",
       "6   Hassan        V   9.9   9.0   9.2     A       1\n",
       "7     Mari        N   7.7   8.0   7.1     B       1\n",
       "8     Jess        K   7.0   9.1   9.9    A+       1\n",
       "9   Rajini        M   7.0   9.1   9.3     A       0\n",
       "10   Kiran        V   7.0   9.3   9.2     A       0\n",
       "11    Maya        N   7.7   8.0   7.1     B       0\n",
       "12   Jolin        K   9.8   9.1   9.9    A+       1\n",
       "14    Riya        M   9.3   9.9  10.0     A       1\n",
       "15    Sana        V   9.9   9.3   9.2     A       0\n",
       "16    Mark        N   7.7   8.0   7.0     B       0"
      ]
     },
     "execution_count": 27,
     "metadata": {},
     "output_type": "execute_result"
    }
   ],
   "source": [
    "demodf"
   ]
  },
  {
   "cell_type": "code",
   "execution_count": 28,
   "id": "04e83da8",
   "metadata": {},
   "outputs": [
    {
     "data": {
      "text/html": [
       "<div>\n",
       "<style scoped>\n",
       "    .dataframe tbody tr th:only-of-type {\n",
       "        vertical-align: middle;\n",
       "    }\n",
       "\n",
       "    .dataframe tbody tr th {\n",
       "        vertical-align: top;\n",
       "    }\n",
       "\n",
       "    .dataframe thead th {\n",
       "        text-align: right;\n",
       "    }\n",
       "</style>\n",
       "<table border=\"1\" class=\"dataframe\">\n",
       "  <thead>\n",
       "    <tr style=\"text-align: right;\">\n",
       "      <th></th>\n",
       "      <th>Names</th>\n",
       "      <th>Initials</th>\n",
       "      <th>SEM1</th>\n",
       "      <th>SEM2</th>\n",
       "      <th>SEM3</th>\n",
       "      <th>Grade</th>\n",
       "      <th>Placed</th>\n",
       "      <th>average</th>\n",
       "    </tr>\n",
       "  </thead>\n",
       "  <tbody>\n",
       "    <tr>\n",
       "      <th>0</th>\n",
       "      <td>Joe</td>\n",
       "      <td>K</td>\n",
       "      <td>9.8</td>\n",
       "      <td>10.0</td>\n",
       "      <td>9.9</td>\n",
       "      <td>A+</td>\n",
       "      <td>1</td>\n",
       "      <td>9.900000</td>\n",
       "    </tr>\n",
       "    <tr>\n",
       "      <th>1</th>\n",
       "      <td>Rajesh</td>\n",
       "      <td>M</td>\n",
       "      <td>8.9</td>\n",
       "      <td>9.1</td>\n",
       "      <td>9.3</td>\n",
       "      <td>A</td>\n",
       "      <td>1</td>\n",
       "      <td>9.100000</td>\n",
       "    </tr>\n",
       "    <tr>\n",
       "      <th>2</th>\n",
       "      <td>Kissan</td>\n",
       "      <td>V</td>\n",
       "      <td>9.9</td>\n",
       "      <td>9.8</td>\n",
       "      <td>10.0</td>\n",
       "      <td>A</td>\n",
       "      <td>0</td>\n",
       "      <td>9.900000</td>\n",
       "    </tr>\n",
       "    <tr>\n",
       "      <th>3</th>\n",
       "      <td>Mary</td>\n",
       "      <td>N</td>\n",
       "      <td>7.7</td>\n",
       "      <td>8.0</td>\n",
       "      <td>7.0</td>\n",
       "      <td>B</td>\n",
       "      <td>0</td>\n",
       "      <td>7.566667</td>\n",
       "    </tr>\n",
       "    <tr>\n",
       "      <th>4</th>\n",
       "      <td>Jeen</td>\n",
       "      <td>K</td>\n",
       "      <td>9.8</td>\n",
       "      <td>9.1</td>\n",
       "      <td>9.9</td>\n",
       "      <td>A+</td>\n",
       "      <td>1</td>\n",
       "      <td>9.600000</td>\n",
       "    </tr>\n",
       "    <tr>\n",
       "      <th>5</th>\n",
       "      <td>Raj</td>\n",
       "      <td>M</td>\n",
       "      <td>8.9</td>\n",
       "      <td>9.1</td>\n",
       "      <td>9.3</td>\n",
       "      <td>A</td>\n",
       "      <td>1</td>\n",
       "      <td>9.100000</td>\n",
       "    </tr>\n",
       "    <tr>\n",
       "      <th>6</th>\n",
       "      <td>Hassan</td>\n",
       "      <td>V</td>\n",
       "      <td>9.9</td>\n",
       "      <td>9.0</td>\n",
       "      <td>9.2</td>\n",
       "      <td>A</td>\n",
       "      <td>1</td>\n",
       "      <td>9.366667</td>\n",
       "    </tr>\n",
       "    <tr>\n",
       "      <th>7</th>\n",
       "      <td>Mari</td>\n",
       "      <td>N</td>\n",
       "      <td>7.7</td>\n",
       "      <td>8.0</td>\n",
       "      <td>7.1</td>\n",
       "      <td>B</td>\n",
       "      <td>1</td>\n",
       "      <td>7.600000</td>\n",
       "    </tr>\n",
       "    <tr>\n",
       "      <th>8</th>\n",
       "      <td>Jess</td>\n",
       "      <td>K</td>\n",
       "      <td>7.0</td>\n",
       "      <td>9.1</td>\n",
       "      <td>9.9</td>\n",
       "      <td>A+</td>\n",
       "      <td>1</td>\n",
       "      <td>8.666667</td>\n",
       "    </tr>\n",
       "    <tr>\n",
       "      <th>9</th>\n",
       "      <td>Rajini</td>\n",
       "      <td>M</td>\n",
       "      <td>7.0</td>\n",
       "      <td>9.1</td>\n",
       "      <td>9.3</td>\n",
       "      <td>A</td>\n",
       "      <td>0</td>\n",
       "      <td>8.466667</td>\n",
       "    </tr>\n",
       "    <tr>\n",
       "      <th>10</th>\n",
       "      <td>Kiran</td>\n",
       "      <td>V</td>\n",
       "      <td>7.0</td>\n",
       "      <td>9.3</td>\n",
       "      <td>9.2</td>\n",
       "      <td>A</td>\n",
       "      <td>0</td>\n",
       "      <td>8.500000</td>\n",
       "    </tr>\n",
       "    <tr>\n",
       "      <th>11</th>\n",
       "      <td>Maya</td>\n",
       "      <td>N</td>\n",
       "      <td>7.7</td>\n",
       "      <td>8.0</td>\n",
       "      <td>7.1</td>\n",
       "      <td>B</td>\n",
       "      <td>0</td>\n",
       "      <td>7.600000</td>\n",
       "    </tr>\n",
       "    <tr>\n",
       "      <th>12</th>\n",
       "      <td>Jolin</td>\n",
       "      <td>K</td>\n",
       "      <td>9.8</td>\n",
       "      <td>9.1</td>\n",
       "      <td>9.9</td>\n",
       "      <td>A+</td>\n",
       "      <td>1</td>\n",
       "      <td>9.600000</td>\n",
       "    </tr>\n",
       "    <tr>\n",
       "      <th>14</th>\n",
       "      <td>Riya</td>\n",
       "      <td>M</td>\n",
       "      <td>9.3</td>\n",
       "      <td>9.9</td>\n",
       "      <td>10.0</td>\n",
       "      <td>A</td>\n",
       "      <td>1</td>\n",
       "      <td>9.733333</td>\n",
       "    </tr>\n",
       "    <tr>\n",
       "      <th>15</th>\n",
       "      <td>Sana</td>\n",
       "      <td>V</td>\n",
       "      <td>9.9</td>\n",
       "      <td>9.3</td>\n",
       "      <td>9.2</td>\n",
       "      <td>A</td>\n",
       "      <td>0</td>\n",
       "      <td>9.466667</td>\n",
       "    </tr>\n",
       "    <tr>\n",
       "      <th>16</th>\n",
       "      <td>Mark</td>\n",
       "      <td>N</td>\n",
       "      <td>7.7</td>\n",
       "      <td>8.0</td>\n",
       "      <td>7.0</td>\n",
       "      <td>B</td>\n",
       "      <td>0</td>\n",
       "      <td>7.566667</td>\n",
       "    </tr>\n",
       "  </tbody>\n",
       "</table>\n",
       "</div>"
      ],
      "text/plain": [
       "     Names Initials  SEM1  SEM2  SEM3 Grade  Placed   average\n",
       "0      Joe        K   9.8  10.0   9.9    A+       1  9.900000\n",
       "1   Rajesh        M   8.9   9.1   9.3     A       1  9.100000\n",
       "2   Kissan        V   9.9   9.8  10.0     A       0  9.900000\n",
       "3     Mary        N   7.7   8.0   7.0     B       0  7.566667\n",
       "4     Jeen        K   9.8   9.1   9.9    A+       1  9.600000\n",
       "5      Raj        M   8.9   9.1   9.3     A       1  9.100000\n",
       "6   Hassan        V   9.9   9.0   9.2     A       1  9.366667\n",
       "7     Mari        N   7.7   8.0   7.1     B       1  7.600000\n",
       "8     Jess        K   7.0   9.1   9.9    A+       1  8.666667\n",
       "9   Rajini        M   7.0   9.1   9.3     A       0  8.466667\n",
       "10   Kiran        V   7.0   9.3   9.2     A       0  8.500000\n",
       "11    Maya        N   7.7   8.0   7.1     B       0  7.600000\n",
       "12   Jolin        K   9.8   9.1   9.9    A+       1  9.600000\n",
       "14    Riya        M   9.3   9.9  10.0     A       1  9.733333\n",
       "15    Sana        V   9.9   9.3   9.2     A       0  9.466667\n",
       "16    Mark        N   7.7   8.0   7.0     B       0  7.566667"
      ]
     },
     "execution_count": 28,
     "metadata": {},
     "output_type": "execute_result"
    }
   ],
   "source": [
    "demodf['average']=(demodf['SEM1']+demodf['SEM2']+demodf['SEM3'])/3\n",
    "demodf"
   ]
  },
  {
   "cell_type": "code",
   "execution_count": null,
   "id": "1d8e741e",
   "metadata": {},
   "outputs": [],
   "source": []
  }
 ],
 "metadata": {
  "kernelspec": {
   "display_name": "Python 3 (ipykernel)",
   "language": "python",
   "name": "python3"
  },
  "language_info": {
   "codemirror_mode": {
    "name": "ipython",
    "version": 3
   },
   "file_extension": ".py",
   "mimetype": "text/x-python",
   "name": "python",
   "nbconvert_exporter": "python",
   "pygments_lexer": "ipython3",
   "version": "3.9.12"
  }
 },
 "nbformat": 4,
 "nbformat_minor": 5
}
