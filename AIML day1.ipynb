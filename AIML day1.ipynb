{
 "cells": [
  {
   "cell_type": "code",
   "execution_count": 1,
   "id": "0cb404d2",
   "metadata": {},
   "outputs": [
    {
     "name": "stdout",
     "output_type": "stream",
     "text": [
      "24\n"
     ]
    }
   ],
   "source": [
    "a = 24\n",
    "print(a)"
   ]
  },
  {
   "cell_type": "code",
   "execution_count": 2,
   "id": "2cd58e5c",
   "metadata": {},
   "outputs": [
    {
     "name": "stdout",
     "output_type": "stream",
     "text": [
      "i am 24 years old\n"
     ]
    }
   ],
   "source": [
    "a=24\n",
    "print(\"i am\" ,a, \"years old\")"
   ]
  },
  {
   "cell_type": "code",
   "execution_count": 3,
   "id": "d0e58a81",
   "metadata": {},
   "outputs": [
    {
     "name": "stdout",
     "output_type": "stream",
     "text": [
      "49\n"
     ]
    }
   ],
   "source": [
    "a=24\n",
    "b=25\n",
    "c=a+b\n",
    "print(c)"
   ]
  },
  {
   "cell_type": "code",
   "execution_count": 4,
   "id": "b1a737b5",
   "metadata": {},
   "outputs": [
    {
     "name": "stdout",
     "output_type": "stream",
     "text": [
      "enter a10\n",
      "enter b20\n",
      "0.5\n"
     ]
    }
   ],
   "source": [
    "a=int(input(\"enter a\"))\n",
    "b=int(input(\"enter b\"))\n",
    "c=a/b\n",
    "print(c)"
   ]
  },
  {
   "cell_type": "code",
   "execution_count": 5,
   "id": "1dce71b0",
   "metadata": {},
   "outputs": [
    {
     "name": "stdout",
     "output_type": "stream",
     "text": [
      "enter a10\n",
      "enter b20\n",
      "0\n"
     ]
    }
   ],
   "source": [
    "a=int(input(\"enter a\"))\n",
    "b=int(input(\"enter b\"))\n",
    "c=a//b\n",
    "print(c)"
   ]
  },
  {
   "cell_type": "code",
   "execution_count": 6,
   "id": "ad606b24",
   "metadata": {},
   "outputs": [
    {
     "name": "stdout",
     "output_type": "stream",
     "text": [
      "enter a10\n",
      "enter b20\n",
      "10\n"
     ]
    }
   ],
   "source": [
    "a=int(input(\"enter a\"))\n",
    "b=int(input(\"enter b\"))\n",
    "c=a%b\n",
    "print(c)"
   ]
  },
  {
   "cell_type": "code",
   "execution_count": 7,
   "id": "0cdc0b28",
   "metadata": {},
   "outputs": [
    {
     "name": "stdout",
     "output_type": "stream",
     "text": [
      "enter a50\n",
      "enter b120\n",
      " b is greater\n"
     ]
    }
   ],
   "source": [
    "a=int(input(\"enter a\"))\n",
    "b=int(input(\"enter b\"))\n",
    "if(a>b):\n",
    "    print(\"a is greater than b \")\n",
    "else:\n",
    "    print(\" b is greater\")"
   ]
  },
  {
   "cell_type": "code",
   "execution_count": 8,
   "id": "0ed4bb50",
   "metadata": {},
   "outputs": [
    {
     "name": "stdout",
     "output_type": "stream",
     "text": [
      "enter a password= ramya\n",
      "welcome\n"
     ]
    }
   ],
   "source": [
    "password=\"ramya\"\n",
    "pwd=input(\"enter a password= \")\n",
    "if(password==pwd):\n",
    "    print(\"welcome\")\n",
    "else:\n",
    "    print(\"wrong password\")"
   ]
  },
  {
   "cell_type": "code",
   "execution_count": 9,
   "id": "e7b1eb50",
   "metadata": {},
   "outputs": [
    {
     "name": "stdout",
     "output_type": "stream",
     "text": [
      "enter a password= 521\n",
      "enter pin12345\n",
      "wrong password try again\n"
     ]
    }
   ],
   "source": [
    "password=\"ramya\"\n",
    "pinn=1234\n",
    "pwd=input(\"enter a password= \")\n",
    "pin=int(input(\"enter pin\"))\n",
    "if(password==pwd and pin==pinn):\n",
    "    print(\"welcome\")\n",
    "else:\n",
    "    print(\"wrong password try again\")"
   ]
  },
  {
   "cell_type": "code",
   "execution_count": 10,
   "id": "ce24bd89",
   "metadata": {},
   "outputs": [
    {
     "name": "stdout",
     "output_type": "stream",
     "text": [
      "enter a password= 566\n",
      "enter pin1234\n",
      "welcome\n"
     ]
    }
   ],
   "source": [
    "password=\"ramya\"\n",
    "pinn=1234\n",
    "pwd=input(\"enter a password= \")\n",
    "pin=int(input(\"enter pin\"))\n",
    "if(password==pwd or pin==pinn):\n",
    "    print(\"welcome\")\n",
    "else:\n",
    "    print(\"wrong password try again\")"
   ]
  },
  {
   "cell_type": "code",
   "execution_count": 11,
   "id": "10a25483",
   "metadata": {},
   "outputs": [
    {
     "name": "stdout",
     "output_type": "stream",
     "text": [
      "you\n"
     ]
    }
   ],
   "source": [
    "s=\"hello how are you?\"\n",
    "print(s[-4:-1])"
   ]
  },
  {
   "cell_type": "code",
   "execution_count": 12,
   "id": "72f0b9a8",
   "metadata": {},
   "outputs": [
    {
     "name": "stdout",
     "output_type": "stream",
     "text": [
      "hello\n"
     ]
    }
   ],
   "source": [
    "s=\"hello how are you?\"\n",
    "print(s[0:5])"
   ]
  },
  {
   "cell_type": "code",
   "execution_count": 13,
   "id": "18dec6b0",
   "metadata": {},
   "outputs": [
    {
     "name": "stdout",
     "output_type": "stream",
     "text": [
      "h\n",
      "e\n",
      "l\n",
      "l\n",
      "o\n"
     ]
    }
   ],
   "source": [
    "for i in range(0,5):\n",
    "    print(s[i])"
   ]
  },
  {
   "cell_type": "code",
   "execution_count": 14,
   "id": "3d721c23",
   "metadata": {},
   "outputs": [
    {
     "name": "stdout",
     "output_type": "stream",
     "text": [
      "120\n"
     ]
    }
   ],
   "source": [
    "fact=1\n",
    "i=1\n",
    "while i<=5:\n",
    "    fact*=i\n",
    "    i=i+1\n",
    "print(fact)"
   ]
  },
  {
   "cell_type": "code",
   "execution_count": 15,
   "id": "0ed5b51a",
   "metadata": {},
   "outputs": [
    {
     "name": "stdout",
     "output_type": "stream",
     "text": [
      "0\n",
      "1\n",
      "3\n",
      "6\n",
      "10\n",
      "15\n",
      "21\n"
     ]
    }
   ],
   "source": [
    "sum=0\n",
    "i=0\n",
    "while i<=6:\n",
    "    sum+=i\n",
    "    i=i+1\n",
    "    print(sum)"
   ]
  },
  {
   "cell_type": "code",
   "execution_count": 16,
   "id": "cdd8c024",
   "metadata": {},
   "outputs": [
    {
     "name": "stdout",
     "output_type": "stream",
     "text": [
      "[9, 90, 'like', 90.1, True, 'like']\n"
     ]
    }
   ],
   "source": [
    "list1=[9,90,'like',90.1,True,'like']\n",
    "print(list1)"
   ]
  },
  {
   "cell_type": "code",
   "execution_count": 17,
   "id": "c9534d1d",
   "metadata": {},
   "outputs": [
    {
     "name": "stdout",
     "output_type": "stream",
     "text": [
      "[9, 90, 'like', 90.1, True, 'like']\n",
      "[9, 90, 'like', 90.1, True, 'like', 'ramya']\n",
      "[9, 90, 'like', 90.1, 'spandana', True, 'like', 'ramya']\n",
      "[9, 90, 90.1, 'spandana', True, 'like', 'ramya']\n",
      "[9, 90, 90.1, 'spandana', True, 'ramya']\n",
      "[]\n"
     ]
    }
   ],
   "source": [
    "list1=[9,90,'like',90.1,True,'like']\n",
    "print(list1)\n",
    "list1.append('ramya')\n",
    "print(list1)\n",
    "list1.insert(4,'spandana') #insert(index,ele)\n",
    "print(list1)\n",
    "list1.remove('like')\n",
    "print(list1)\n",
    "list1.pop(5)\n",
    "print(list1)\n",
    "list1.clear()\n",
    "print(list1)"
   ]
  },
  {
   "cell_type": "code",
   "execution_count": 18,
   "id": "1c5dffc9",
   "metadata": {},
   "outputs": [
    {
     "data": {
      "text/plain": [
       "[12, 23, 45, 80, 89, 99]"
      ]
     },
     "execution_count": 18,
     "metadata": {},
     "output_type": "execute_result"
    }
   ],
   "source": [
    "list4=[89,45,12,23,99,80]\n",
    "list4.sort()\n",
    "list4"
   ]
  },
  {
   "cell_type": "code",
   "execution_count": 19,
   "id": "e853d59f",
   "metadata": {},
   "outputs": [
    {
     "data": {
      "text/plain": [
       "[99, 89, 80, 45, 23, 12]"
      ]
     },
     "execution_count": 19,
     "metadata": {},
     "output_type": "execute_result"
    }
   ],
   "source": [
    "list4=[89,45,12,23,99,80]\n",
    "list4.sort(reverse=True)\n",
    "list4"
   ]
  },
  {
   "cell_type": "code",
   "execution_count": 20,
   "id": "85b14c40",
   "metadata": {},
   "outputs": [
    {
     "data": {
      "text/plain": [
       "[12, 23, 45, 76, 80, 89, 99]"
      ]
     },
     "execution_count": 20,
     "metadata": {},
     "output_type": "execute_result"
    }
   ],
   "source": [
    "list5=[89,45,12,23,99,80,76,]\n",
    "list6=sorted(list5)\n",
    "list6"
   ]
  },
  {
   "cell_type": "code",
   "execution_count": 21,
   "id": "80540417",
   "metadata": {},
   "outputs": [
    {
     "name": "stdout",
     "output_type": "stream",
     "text": [
      "144\n",
      "529\n",
      "2025\n",
      "5776\n",
      "6400\n",
      "7921\n",
      "9801\n"
     ]
    }
   ],
   "source": [
    "list5=[89,45,12,23,99,80,76]\n",
    "list5.sort()\n",
    "for i in list5:\n",
    "    print(i*i)"
   ]
  },
  {
   "cell_type": "code",
   "execution_count": 22,
   "id": "e4e603b3",
   "metadata": {},
   "outputs": [
    {
     "data": {
      "text/plain": [
       "[144, 529, 2025, 5776, 6400, 7921, 9801]"
      ]
     },
     "execution_count": 22,
     "metadata": {},
     "output_type": "execute_result"
    }
   ],
   "source": [
    "listnew=[i*i for i in list6]\n",
    "listnew"
   ]
  },
  {
   "cell_type": "code",
   "execution_count": 23,
   "id": "9d36b74e",
   "metadata": {},
   "outputs": [
    {
     "name": "stdout",
     "output_type": "stream",
     "text": [
      "[9801, 10609]\n"
     ]
    }
   ],
   "source": [
    "list6=[99,45,12,103,46]\n",
    "s=[]\n",
    "for i in list6:\n",
    "    if i>50:\n",
    "        s.append(i*i)\n",
    "print(s)"
   ]
  },
  {
   "cell_type": "code",
   "execution_count": 26,
   "id": "1da70238",
   "metadata": {},
   "outputs": [],
   "source": [
    "slc = [i*i for i in list6 if i>50]"
   ]
  },
  {
   "cell_type": "code",
   "execution_count": 27,
   "id": "0f6028c2",
   "metadata": {},
   "outputs": [
    {
     "name": "stdout",
     "output_type": "stream",
     "text": [
      "[9801, 10609]\n"
     ]
    }
   ],
   "source": [
    "print(slc)"
   ]
  },
  {
   "cell_type": "code",
   "execution_count": null,
   "id": "3fff62df",
   "metadata": {},
   "outputs": [],
   "source": [
    "marks=[50,90,70,80,90,100]\n",
    "grades=[]\n",
    "for i  in marks:\n",
    "    if i>=90:\n",
    "        grades.append(\"a\")\n",
    "    else:\n",
    "        grades.append(\"b\")\n",
    "grades"
   ]
  },
  {
   "cell_type": "code",
   "execution_count": 39,
   "id": "c049012f",
   "metadata": {},
   "outputs": [
    {
     "data": {
      "text/plain": [
       "[18050.0, 70200.0, 9500.0, 50400.0, 42750.0, 11400.0]"
      ]
     },
     "execution_count": 39,
     "metadata": {},
     "output_type": "execute_result"
    }
   ],
   "source": [
    "#if the salry is > than 50k reduce tax 10% else reduce 5% and save remaining slry in new list\n",
    "\n",
    "sal=[19000,78000,10000,56000,45000,12000]\n",
    "final=[]\n",
    "for i in sal:\n",
    "    if i>50000:\n",
    "        tax=i*0.1\n",
    "        total=i-tax\n",
    "        final.append(total)\n",
    "    else:\n",
    "        tax=i*0.05\n",
    "        total=i-tax\n",
    "        final.append(total)\n",
    "final\n"
   ]
  },
  {
   "cell_type": "code",
   "execution_count": 44,
   "id": "a744172e",
   "metadata": {},
   "outputs": [
    {
     "data": {
      "text/plain": [
       "[18050.0, 70200.0, 9500.0, 50400.0, 42750.0, 11400.0]"
      ]
     },
     "execution_count": 44,
     "metadata": {},
     "output_type": "execute_result"
    }
   ],
   "source": [
    "fslc=[i-i*0.1 if i>50000 else i-i*0.05 for i in sal]\n",
    "fslc"
   ]
  },
  {
   "cell_type": "code",
   "execution_count": 46,
   "id": "59adff51",
   "metadata": {},
   "outputs": [
    {
     "name": "stdout",
     "output_type": "stream",
     "text": [
      "179\n",
      "90\n",
      "35\n",
      "35\n",
      "190\n"
     ]
    }
   ],
   "source": [
    "list2=[90,45,23,12,91]\n",
    "list4=[89,45,12,23,99]\n",
    "\n",
    "for i,j in zip(list2,list4):\n",
    "    print(i+j)\n",
    "    "
   ]
  },
  {
   "cell_type": "code",
   "execution_count": 47,
   "id": "6025915b",
   "metadata": {},
   "outputs": [
    {
     "data": {
      "text/plain": [
       "(34, 'hello', 90, 'hi', 90.6)"
      ]
     },
     "execution_count": 47,
     "metadata": {},
     "output_type": "execute_result"
    }
   ],
   "source": [
    "tupl=(34,'hello',90,'hi',90.6)\n",
    "tupl"
   ]
  },
  {
   "cell_type": "code",
   "execution_count": 48,
   "id": "ead6f9f8",
   "metadata": {},
   "outputs": [
    {
     "data": {
      "text/plain": [
       "[45, 67, 90]"
      ]
     },
     "execution_count": 48,
     "metadata": {},
     "output_type": "execute_result"
    }
   ],
   "source": [
    "tup2=(90,45,67)\n",
    "tup3=sorted(tup2)\n",
    "tup3"
   ]
  },
  {
   "cell_type": "markdown",
   "id": "f2b1b9ee",
   "metadata": {},
   "source": [
    "dictionary\n"
   ]
  },
  {
   "cell_type": "code",
   "execution_count": 50,
   "id": "ff1333aa",
   "metadata": {},
   "outputs": [
    {
     "data": {
      "text/plain": [
       "{1: 'joe', 2: 'veena', 3: 'hanumanth'}"
      ]
     },
     "execution_count": 50,
     "metadata": {},
     "output_type": "execute_result"
    }
   ],
   "source": [
    "dict={1:\"joe\",2:\"veena\",3:\"hanumanth\"}\n",
    "dict"
   ]
  },
  {
   "cell_type": "code",
   "execution_count": 53,
   "id": "f7ad82db",
   "metadata": {},
   "outputs": [
    {
     "name": "stdout",
     "output_type": "stream",
     "text": [
      "['sleeping', 'eating', 'playing']\n"
     ]
    }
   ],
   "source": [
    "dict2={'name':\"ramya\",'hobbies': ['sleeping','eating','playing']}\n",
    "print(dict2['hobbies'])"
   ]
  },
  {
   "cell_type": "code",
   "execution_count": 55,
   "id": "e6be2216",
   "metadata": {},
   "outputs": [
    {
     "data": {
      "text/plain": [
       "dict_keys(['name', 'hobbies'])"
      ]
     },
     "execution_count": 55,
     "metadata": {},
     "output_type": "execute_result"
    }
   ],
   "source": [
    "dict2.keys()"
   ]
  },
  {
   "cell_type": "code",
   "execution_count": 56,
   "id": "c217f271",
   "metadata": {},
   "outputs": [
    {
     "data": {
      "text/plain": [
       "dict_values(['ramya', ['sleeping', 'eating', 'playing']])"
      ]
     },
     "execution_count": 56,
     "metadata": {},
     "output_type": "execute_result"
    }
   ],
   "source": [
    "dict2.values()\n"
   ]
  },
  {
   "cell_type": "code",
   "execution_count": 57,
   "id": "b9e90b9d",
   "metadata": {},
   "outputs": [
    {
     "data": {
      "text/plain": [
       "dict_items([('name', 'ramya'), ('hobbies', ['sleeping', 'eating', 'playing'])])"
      ]
     },
     "execution_count": 57,
     "metadata": {},
     "output_type": "execute_result"
    }
   ],
   "source": [
    "dict2.items()"
   ]
  },
  {
   "cell_type": "code",
   "execution_count": 61,
   "id": "c680f639",
   "metadata": {},
   "outputs": [
    {
     "data": {
      "text/plain": [
       "'eating'"
      ]
     },
     "execution_count": 61,
     "metadata": {},
     "output_type": "execute_result"
    }
   ],
   "source": [
    "dict2['hobbies'][1]"
   ]
  },
  {
   "cell_type": "code",
   "execution_count": 63,
   "id": "a0a2992e",
   "metadata": {},
   "outputs": [
    {
     "name": "stdout",
     "output_type": "stream",
     "text": [
      "ramya hobbies are ['sleeping', 'eating', 'playing']\n"
     ]
    }
   ],
   "source": [
    "print(\"ramya hobbies are\",dict2['hobbies'])"
   ]
  },
  {
   "cell_type": "code",
   "execution_count": 65,
   "id": "48893cec",
   "metadata": {},
   "outputs": [
    {
     "data": {
      "text/plain": [
       "{34, 56, 90}"
      ]
     },
     "execution_count": 65,
     "metadata": {},
     "output_type": "execute_result"
    }
   ],
   "source": [
    "list1=[90,56,90,34,90,56]\n",
    "s2=set(list1)\n",
    "s2"
   ]
  },
  {
   "cell_type": "markdown",
   "id": "4c69cd50",
   "metadata": {},
   "source": [
    "DAY2\n"
   ]
  },
  {
   "cell_type": "code",
   "execution_count": 6,
   "id": "31b28a0f",
   "metadata": {},
   "outputs": [
    {
     "data": {
      "text/plain": [
       "array([ 90, 134, 113,  68])"
      ]
     },
     "execution_count": 6,
     "metadata": {},
     "output_type": "execute_result"
    }
   ],
   "source": [
    "import numpy as np\n",
    "#arrays\n",
    "ar1=np.array([34,56,23,12])\n",
    "ar2=np.array([56,78,90,56])\n",
    "ar1+ar2"
   ]
  },
  {
   "cell_type": "code",
   "execution_count": 8,
   "id": "be24a09d",
   "metadata": {},
   "outputs": [
    {
     "data": {
      "text/plain": [
       "array([22, 22, 67, 44])"
      ]
     },
     "execution_count": 8,
     "metadata": {},
     "output_type": "execute_result"
    }
   ],
   "source": [
    "import numpy as np\n",
    "#arrays\n",
    "ar1=np.array([34,56,23,12])\n",
    "ar2=np.array([56,78,90,56])\n",
    "ar2-ar1"
   ]
  },
  {
   "cell_type": "code",
   "execution_count": 9,
   "id": "ae82ade8",
   "metadata": {},
   "outputs": [
    {
     "name": "stdout",
     "output_type": "stream",
     "text": [
      "[[1. 1. 1.]\n",
      " [1. 1. 1.]]\n"
     ]
    }
   ],
   "source": [
    "#intrinsic creation of array\n",
    "ar3=np.ones((2,3))\n",
    "print(ar3)"
   ]
  },
  {
   "cell_type": "code",
   "execution_count": 10,
   "id": "65bfaef1",
   "metadata": {},
   "outputs": [
    {
     "name": "stdout",
     "output_type": "stream",
     "text": [
      "[[0. 0. 0. 0. 0.]\n",
      " [0. 0. 0. 0. 0.]\n",
      " [0. 0. 0. 0. 0.]\n",
      " [0. 0. 0. 0. 0.]]\n"
     ]
    }
   ],
   "source": [
    "ar4=np.zeros((4,5))\n",
    "print(ar4)"
   ]
  },
  {
   "cell_type": "code",
   "execution_count": 13,
   "id": "c7612d06",
   "metadata": {},
   "outputs": [
    {
     "name": "stdout",
     "output_type": "stream",
     "text": [
      "[[1. 0. 0. 0. 0.]\n",
      " [0. 1. 0. 0. 0.]\n",
      " [0. 0. 1. 0. 0.]\n",
      " [0. 0. 0. 1. 0.]\n",
      " [0. 0. 0. 0. 1.]]\n"
     ]
    }
   ],
   "source": [
    "ar5=np.eye(5)\n",
    "print(ar5)"
   ]
  },
  {
   "cell_type": "code",
   "execution_count": 18,
   "id": "99686e76",
   "metadata": {},
   "outputs": [
    {
     "name": "stdout",
     "output_type": "stream",
     "text": [
      "[   8   16   24   32   40   48   56   64   72   80   88   96  104  112\n",
      "  120  128  136  144  152  160  168  176  184  192  200  208  216  224\n",
      "  232  240  248  256  264  272  280  288  296  304  312  320  328  336\n",
      "  344  352  360  368  376  384  392  400  408  416  424  432  440  448\n",
      "  456  464  472  480  488  496  504  512  520  528  536  544  552  560\n",
      "  568  576  584  592  600  608  616  624  632  640  648  656  664  672\n",
      "  680  688  696  704  712  720  728  736  744  752  760  768  776  784\n",
      "  792  800  808  816  824  832  840  848  856  864  872  880  888  896\n",
      "  904  912  920  928  936  944  952  960  968  976  984  992 1000]\n"
     ]
    }
   ],
   "source": [
    "ar6=np.arange(8,1001,8) #start,stop,step\n",
    "print(ar6)"
   ]
  },
  {
   "cell_type": "code",
   "execution_count": 19,
   "id": "3b669a58",
   "metadata": {},
   "outputs": [
    {
     "data": {
      "text/plain": [
       "2"
      ]
     },
     "execution_count": 19,
     "metadata": {},
     "output_type": "execute_result"
    }
   ],
   "source": [
    "np.ndim(ar4) #dimension of the array"
   ]
  },
  {
   "cell_type": "code",
   "execution_count": 20,
   "id": "0c1b487f",
   "metadata": {},
   "outputs": [
    {
     "data": {
      "text/plain": [
       "(4, 5)"
      ]
     },
     "execution_count": 20,
     "metadata": {},
     "output_type": "execute_result"
    }
   ],
   "source": [
    "np.shape(ar4)"
   ]
  },
  {
   "cell_type": "code",
   "execution_count": 22,
   "id": "f54a3b82",
   "metadata": {},
   "outputs": [
    {
     "name": "stdout",
     "output_type": "stream",
     "text": [
      "[[3 4 5]\n",
      " [1 2 3]]\n"
     ]
    }
   ],
   "source": [
    "ar8=np.array([[3,4,5],[1,2,3]])\n",
    "print(ar8)"
   ]
  },
  {
   "cell_type": "code",
   "execution_count": 24,
   "id": "2dbb5aea",
   "metadata": {},
   "outputs": [
    {
     "name": "stdout",
     "output_type": "stream",
     "text": [
      "[[[3 4 5]\n",
      "  [1 2 3]]\n",
      "\n",
      " [[3 4 5]\n",
      "  [5 6 7]]]\n"
     ]
    }
   ],
   "source": [
    "ar9=np.array([[[3,4,5],[1,2,3]],[[3,4,5],[5,6,7]]])\n",
    "print(ar9)"
   ]
  },
  {
   "cell_type": "markdown",
   "id": "72a3a154",
   "metadata": {},
   "source": [
    "# statistics"
   ]
  },
  {
   "cell_type": "code",
   "execution_count": 25,
   "id": "30ac22cf",
   "metadata": {},
   "outputs": [],
   "source": [
    "m=np.array([70,89,50,79,89,46])"
   ]
  },
  {
   "cell_type": "code",
   "execution_count": 27,
   "id": "ae884b42",
   "metadata": {},
   "outputs": [
    {
     "name": "stdout",
     "output_type": "stream",
     "text": [
      "70.5\n",
      "74.5\n",
      "17.211914478058507\n"
     ]
    }
   ],
   "source": [
    "avg=np.mean(m)\n",
    "print(avg)\n",
    "\n",
    "med=np.median(m)\n",
    "print(med)\n",
    "\n",
    "sd=np.std(m)\n",
    "print(sd)"
   ]
  },
  {
   "cell_type": "markdown",
   "id": "4de39a41",
   "metadata": {},
   "source": [
    "# random"
   ]
  },
  {
   "cell_type": "code",
   "execution_count": 28,
   "id": "1c0c7d1c",
   "metadata": {},
   "outputs": [],
   "source": [
    "from numpy import random as rd \n",
    "#import parent import child as nn"
   ]
  },
  {
   "cell_type": "code",
   "execution_count": 30,
   "id": "28a68d76",
   "metadata": {},
   "outputs": [
    {
     "name": "stdout",
     "output_type": "stream",
     "text": [
      "24\n"
     ]
    }
   ],
   "source": [
    "r1=rd.randint(90)\n",
    "print(r1)"
   ]
  },
  {
   "cell_type": "code",
   "execution_count": 32,
   "id": "b8b1242c",
   "metadata": {},
   "outputs": [
    {
     "name": "stdout",
     "output_type": "stream",
     "text": [
      "[82 28 13  3 45]\n"
     ]
    }
   ],
   "source": [
    "r2=rd.randint(90,size=5)\n",
    "print(r2)"
   ]
  },
  {
   "cell_type": "code",
   "execution_count": 34,
   "id": "62258ea8",
   "metadata": {},
   "outputs": [
    {
     "name": "stdout",
     "output_type": "stream",
     "text": [
      "[[23  7 20 81  1]\n",
      " [71 50 70 68 35]\n",
      " [ 8 84 25 61 31]\n",
      " [68 94 75 34 31]]\n"
     ]
    }
   ],
   "source": [
    "r3=rd.randint(100,size=(4,5))\n",
    "print(r3)"
   ]
  },
  {
   "cell_type": "code",
   "execution_count": null,
   "id": "958dacef",
   "metadata": {},
   "outputs": [],
   "source": []
  }
 ],
 "metadata": {
  "kernelspec": {
   "display_name": "Python 3 (ipykernel)",
   "language": "python",
   "name": "python3"
  },
  "language_info": {
   "codemirror_mode": {
    "name": "ipython",
    "version": 3
   },
   "file_extension": ".py",
   "mimetype": "text/x-python",
   "name": "python",
   "nbconvert_exporter": "python",
   "pygments_lexer": "ipython3",
   "version": "3.9.12"
  }
 },
 "nbformat": 4,
 "nbformat_minor": 5
}
